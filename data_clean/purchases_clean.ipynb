{
 "cells": [
  {
   "cell_type": "markdown",
   "metadata": {},
   "source": [
    "# hd_purchase_clean"
   ]
  },
  {
   "cell_type": "code",
   "execution_count": 1,
   "metadata": {
    "collapsed": true
   },
   "outputs": [],
   "source": [
    "%matplotlib inline\n",
    "import matplotlib.pyplot as plt\n",
    "import numpy as np\n",
    "import pandas as pd\n",
    "import io\n",
    "import os"
   ]
  },
  {
   "cell_type": "markdown",
   "metadata": {},
   "source": [
    "# data_purchase"
   ]
  },
  {
   "cell_type": "markdown",
   "metadata": {},
   "source": [
    "### pedido desglosado por linea de pedido"
   ]
  },
  {
   "cell_type": "code",
   "execution_count": 5,
   "metadata": {
    "collapsed": true
   },
   "outputs": [],
   "source": [
    "data_purchase=\"../DATA/IntropiaCSV/hd_purchase.csv\"\n",
    "\n",
    "readme=os.path.join(data_purchase)\n",
    "#cat $readme | head"
   ]
  },
  {
   "cell_type": "code",
   "execution_count": 6,
   "metadata": {
    "scrolled": true
   },
   "outputs": [
    {
     "data": {
      "text/html": [
       "<div>\n",
       "<style>\n",
       "    .dataframe thead tr:only-child th {\n",
       "        text-align: right;\n",
       "    }\n",
       "\n",
       "    .dataframe thead th {\n",
       "        text-align: left;\n",
       "    }\n",
       "\n",
       "    .dataframe tbody tr th {\n",
       "        vertical-align: top;\n",
       "    }\n",
       "</style>\n",
       "<table border=\"1\" class=\"dataframe\">\n",
       "  <thead>\n",
       "    <tr style=\"text-align: right;\">\n",
       "      <th></th>\n",
       "      <th>idPurchase</th>\n",
       "      <th>idProduct</th>\n",
       "      <th>productType</th>\n",
       "      <th>idBuyer</th>\n",
       "      <th>price</th>\n",
       "      <th>quantity</th>\n",
       "      <th>date</th>\n",
       "      <th>active</th>\n",
       "      <th>affiliationCost</th>\n",
       "      <th>idRecommendation</th>\n",
       "      <th>timestamp</th>\n",
       "    </tr>\n",
       "  </thead>\n",
       "  <tbody>\n",
       "    <tr>\n",
       "      <th>0</th>\n",
       "      <td>243680</td>\n",
       "      <td>2843839620</td>\n",
       "      <td>product</td>\n",
       "      <td>2000000019047</td>\n",
       "      <td>134.0</td>\n",
       "      <td>1</td>\n",
       "      <td>2017-03-09 09:47:48</td>\n",
       "      <td>1</td>\n",
       "      <td>0.0</td>\n",
       "      <td>0</td>\n",
       "      <td>1489053080</td>\n",
       "    </tr>\n",
       "    <tr>\n",
       "      <th>1</th>\n",
       "      <td>244273</td>\n",
       "      <td>4018604325</td>\n",
       "      <td>product</td>\n",
       "      <td>2000000002449</td>\n",
       "      <td>0.0</td>\n",
       "      <td>1</td>\n",
       "      <td>2017-03-14 07:08:56</td>\n",
       "      <td>1</td>\n",
       "      <td>0.0</td>\n",
       "      <td>0</td>\n",
       "      <td>1489475452</td>\n",
       "    </tr>\n",
       "    <tr>\n",
       "      <th>2</th>\n",
       "      <td>252791</td>\n",
       "      <td>1085220167</td>\n",
       "      <td>product</td>\n",
       "      <td>2000000003871</td>\n",
       "      <td>234.0</td>\n",
       "      <td>1</td>\n",
       "      <td>2017-03-09 10:56:39</td>\n",
       "      <td>1</td>\n",
       "      <td>0.0</td>\n",
       "      <td>0</td>\n",
       "      <td>1489066841</td>\n",
       "    </tr>\n",
       "    <tr>\n",
       "      <th>3</th>\n",
       "      <td>252791</td>\n",
       "      <td>1669405786</td>\n",
       "      <td>product</td>\n",
       "      <td>2000000003871</td>\n",
       "      <td>177.0</td>\n",
       "      <td>1</td>\n",
       "      <td>2017-03-09 13:37:54</td>\n",
       "      <td>1</td>\n",
       "      <td>0.0</td>\n",
       "      <td>0</td>\n",
       "      <td>1489066841</td>\n",
       "    </tr>\n",
       "    <tr>\n",
       "      <th>4</th>\n",
       "      <td>252791</td>\n",
       "      <td>2814652374</td>\n",
       "      <td>product</td>\n",
       "      <td>2000000003871</td>\n",
       "      <td>161.0</td>\n",
       "      <td>1</td>\n",
       "      <td>2017-03-09 10:56:39</td>\n",
       "      <td>1</td>\n",
       "      <td>0.0</td>\n",
       "      <td>0</td>\n",
       "      <td>1489066841</td>\n",
       "    </tr>\n",
       "  </tbody>\n",
       "</table>\n",
       "</div>"
      ],
      "text/plain": [
       "   idPurchase   idProduct productType        idBuyer  price  quantity  \\\n",
       "0      243680  2843839620     product  2000000019047  134.0         1   \n",
       "1      244273  4018604325     product  2000000002449    0.0         1   \n",
       "2      252791  1085220167     product  2000000003871  234.0         1   \n",
       "3      252791  1669405786     product  2000000003871  177.0         1   \n",
       "4      252791  2814652374     product  2000000003871  161.0         1   \n",
       "\n",
       "                  date  active  affiliationCost  idRecommendation   timestamp  \n",
       "0  2017-03-09 09:47:48       1              0.0                 0  1489053080  \n",
       "1  2017-03-14 07:08:56       1              0.0                 0  1489475452  \n",
       "2  2017-03-09 10:56:39       1              0.0                 0  1489066841  \n",
       "3  2017-03-09 13:37:54       1              0.0                 0  1489066841  \n",
       "4  2017-03-09 10:56:39       1              0.0                 0  1489066841  "
      ]
     },
     "execution_count": 6,
     "metadata": {},
     "output_type": "execute_result"
    }
   ],
   "source": [
    "datafile = os.path.join(data_purchase)\n",
    "data_purchase = pd.read_csv(datafile, sep=';')\n",
    "data_purchase.head()"
   ]
  },
  {
   "cell_type": "code",
   "execution_count": 7,
   "metadata": {},
   "outputs": [
    {
     "name": "stdout",
     "output_type": "stream",
     "text": [
      "['idPurchase' 'idProduct' 'productType' 'idBuyer' 'price' 'quantity' 'date'\n",
      " 'active' 'affiliationCost' 'idRecommendation' 'timestamp']\n"
     ]
    }
   ],
   "source": [
    "# imprime los titulos de la columna o headers\n",
    "print (data_purchase.columns.values)"
   ]
  },
  {
   "cell_type": "code",
   "execution_count": 8,
   "metadata": {},
   "outputs": [
    {
     "name": "stdout",
     "output_type": "stream",
     "text": [
      "<class 'pandas.core.frame.DataFrame'>\n",
      "RangeIndex: 11803 entries, 0 to 11802\n",
      "Data columns (total 11 columns):\n",
      "idPurchase          11803 non-null int64\n",
      "idProduct           11803 non-null int64\n",
      "productType         11803 non-null object\n",
      "idBuyer             11803 non-null int64\n",
      "price               11803 non-null float64\n",
      "quantity            11803 non-null int64\n",
      "date                11803 non-null object\n",
      "active              11803 non-null int64\n",
      "affiliationCost     11803 non-null float64\n",
      "idRecommendation    11803 non-null int64\n",
      "timestamp           11803 non-null int64\n",
      "dtypes: float64(2), int64(7), object(2)\n",
      "memory usage: 1014.4+ KB\n"
     ]
    }
   ],
   "source": [
    "data_purchase.info()"
   ]
  },
  {
   "cell_type": "code",
   "execution_count": 9,
   "metadata": {},
   "outputs": [
    {
     "name": "stdout",
     "output_type": "stream",
     "text": [
      "2058732060    72.015589\n",
      "472910197     64.390409\n",
      "3989064406    53.376260\n",
      "1537032696    44.056596\n",
      "275175147     43.209354\n",
      "2675795017    41.514869\n",
      "774984129     38.973142\n",
      "639086837     37.278658\n",
      "3293198965    37.278658\n",
      "765964016     36.431416\n",
      "Name: idProduct, dtype: float64\n"
     ]
    }
   ],
   "source": [
    "# frecuencia porcentual de una variable. \n",
    "data_purchase_frecuence = data_purchase[\"idProduct\"].value_counts(normalize = True)[:10]*100\n",
    "#print(data_purchase[\"idProduct\"].value_counts(normalize = True)[:10]*100)\n",
    "print (data_purchase_frecuence*100)"
   ]
  },
  {
   "cell_type": "code",
   "execution_count": 10,
   "metadata": {},
   "outputs": [
    {
     "data": {
      "text/html": [
       "<div>\n",
       "<style>\n",
       "    .dataframe thead tr:only-child th {\n",
       "        text-align: right;\n",
       "    }\n",
       "\n",
       "    .dataframe thead th {\n",
       "        text-align: left;\n",
       "    }\n",
       "\n",
       "    .dataframe tbody tr th {\n",
       "        vertical-align: top;\n",
       "    }\n",
       "</style>\n",
       "<table border=\"1\" class=\"dataframe\">\n",
       "  <thead>\n",
       "    <tr style=\"text-align: right;\">\n",
       "      <th></th>\n",
       "      <th>idPurchase</th>\n",
       "      <th>idProduct</th>\n",
       "      <th>idBuyer</th>\n",
       "      <th>price</th>\n",
       "      <th>active</th>\n",
       "      <th>timestamp</th>\n",
       "    </tr>\n",
       "  </thead>\n",
       "  <tbody>\n",
       "    <tr>\n",
       "      <th>230</th>\n",
       "      <td>445045</td>\n",
       "      <td>472910197</td>\n",
       "      <td>2889752961000</td>\n",
       "      <td>268.0</td>\n",
       "      <td>1</td>\n",
       "      <td>1488975949</td>\n",
       "    </tr>\n",
       "    <tr>\n",
       "      <th>231</th>\n",
       "      <td>445046</td>\n",
       "      <td>472910197</td>\n",
       "      <td>2889755321000</td>\n",
       "      <td>268.0</td>\n",
       "      <td>1</td>\n",
       "      <td>1488975575</td>\n",
       "    </tr>\n",
       "    <tr>\n",
       "      <th>232</th>\n",
       "      <td>445061</td>\n",
       "      <td>976189171</td>\n",
       "      <td>2889769221000</td>\n",
       "      <td>305.0</td>\n",
       "      <td>1</td>\n",
       "      <td>1488977177</td>\n",
       "    </tr>\n",
       "    <tr>\n",
       "      <th>233</th>\n",
       "      <td>445061</td>\n",
       "      <td>2594368303</td>\n",
       "      <td>2889769221000</td>\n",
       "      <td>220.0</td>\n",
       "      <td>1</td>\n",
       "      <td>1488977177</td>\n",
       "    </tr>\n",
       "    <tr>\n",
       "      <th>234</th>\n",
       "      <td>445061</td>\n",
       "      <td>3316893192</td>\n",
       "      <td>2889769221000</td>\n",
       "      <td>120.0</td>\n",
       "      <td>1</td>\n",
       "      <td>1488977177</td>\n",
       "    </tr>\n",
       "  </tbody>\n",
       "</table>\n",
       "</div>"
      ],
      "text/plain": [
       "     idPurchase   idProduct        idBuyer  price  active   timestamp\n",
       "230      445045   472910197  2889752961000  268.0       1  1488975949\n",
       "231      445046   472910197  2889755321000  268.0       1  1488975575\n",
       "232      445061   976189171  2889769221000  305.0       1  1488977177\n",
       "233      445061  2594368303  2889769221000  220.0       1  1488977177\n",
       "234      445061  3316893192  2889769221000  120.0       1  1488977177"
      ]
     },
     "execution_count": 10,
     "metadata": {},
     "output_type": "execute_result"
    }
   ],
   "source": [
    "# seleccionamos columnas que mas nos interesan.\n",
    "data_purchase2=data_purchase[['idPurchase','idProduct','idBuyer','price','active','timestamp']]\n",
    "\n",
    "# vistazo\n",
    "\n",
    "data_purchase2.iloc[230:235]"
   ]
  },
  {
   "cell_type": "code",
   "execution_count": 11,
   "metadata": {},
   "outputs": [
    {
     "data": {
      "text/plain": [
       "price\n",
       "(0, 100]      1510\n",
       "(100, 200]    5152\n",
       "(200, 300]    3241\n",
       "dtype: int64"
      ]
     },
     "execution_count": 11,
     "metadata": {},
     "output_type": "execute_result"
    }
   ],
   "source": [
    "# agrupa la variable precio en escalas por si luego lo podemos utilizar\n",
    "data_purchase.groupby(pd.cut(data_purchase.price, range(0, 400, 100))).size()\n",
    "# clasificacion de items por precio"
   ]
  },
  {
   "cell_type": "markdown",
   "metadata": {},
   "source": [
    "### Recuento de valores unicos"
   ]
  },
  {
   "cell_type": "code",
   "execution_count": 12,
   "metadata": {},
   "outputs": [
    {
     "name": "stdout",
     "output_type": "stream",
     "text": [
      "['idPurchase' 'idProduct' 'productType' 'idBuyer' 'price' 'quantity' 'date'\n",
      " 'active' 'affiliationCost' 'idRecommendation' 'timestamp']\n"
     ]
    }
   ],
   "source": [
    "print (data_purchase.columns.values)"
   ]
  },
  {
   "cell_type": "code",
   "execution_count": 13,
   "metadata": {},
   "outputs": [
    {
     "name": "stdout",
     "output_type": "stream",
     "text": [
      "There are 11803 items\n",
      "There are 6310 purchases\n",
      "There are 5121 buyer\n",
      "There are 5 quantity\n",
      "There are 268 quantity\n"
     ]
    }
   ],
   "source": [
    "n_items =data_purchase.idProduct.shape[0]\n",
    "# Calculate number of items\n",
    "\n",
    "n_purchases = data_purchase.idPurchase.unique().shape[0]\n",
    "# Calculate number of purchase \n",
    "\n",
    "n_buyer = data_purchase.idBuyer.unique().shape[0]\n",
    "# Calculate number of Buyer >> nº id compadores?????\n",
    "\n",
    "n_quantity = data_purchase.quantity.unique().shape[0]\n",
    "# Calculate number of quantity\n",
    "\n",
    "n_price =data_purchase.price.unique().shape[0]\n",
    "# Calculate number of items\n",
    "\n",
    "print(\"There are %s items\" % (n_items))\n",
    "print(\"There are %s purchases\" % (n_purchases))\n",
    "print(\"There are %s buyer\" % (n_buyer))\n",
    "print(\"There are %s quantity\" % (n_quantity))\n",
    "print(\"There are %s quantity\" % (n_price))"
   ]
  },
  {
   "cell_type": "markdown",
   "metadata": {},
   "source": [
    "# !!!"
   ]
  },
  {
   "cell_type": "code",
   "execution_count": 14,
   "metadata": {
    "collapsed": true
   },
   "outputs": [],
   "source": [
    "# REFLEXIóN >> tenemos una cesta q va de 1 a 5 artículos máximo >> vamos a tener una dispersion brutal????\n",
    "#Por lo tanto sería algo a tener en cuenta, \n",
    "# comprado no comprado ????"
   ]
  },
  {
   "cell_type": "code",
   "execution_count": null,
   "metadata": {
    "collapsed": true
   },
   "outputs": [],
   "source": []
  },
  {
   "cell_type": "markdown",
   "metadata": {},
   "source": [
    "# total_purchase"
   ]
  },
  {
   "cell_type": "markdown",
   "metadata": {},
   "source": [
    "### total transacciones, pedidos consolidados"
   ]
  },
  {
   "cell_type": "code",
   "execution_count": 16,
   "metadata": {
    "scrolled": true
   },
   "outputs": [
    {
     "data": {
      "text/html": [
       "<div>\n",
       "<style>\n",
       "    .dataframe thead tr:only-child th {\n",
       "        text-align: right;\n",
       "    }\n",
       "\n",
       "    .dataframe thead th {\n",
       "        text-align: left;\n",
       "    }\n",
       "\n",
       "    .dataframe tbody tr th {\n",
       "        vertical-align: top;\n",
       "    }\n",
       "</style>\n",
       "<table border=\"1\" class=\"dataframe\">\n",
       "  <thead>\n",
       "    <tr style=\"text-align: right;\">\n",
       "      <th></th>\n",
       "      <th>idPurchase</th>\n",
       "      <th>idOrder</th>\n",
       "      <th>idBuyer</th>\n",
       "      <th>idUser</th>\n",
       "      <th>amount</th>\n",
       "      <th>startDate</th>\n",
       "      <th>finishDate</th>\n",
       "      <th>affiliationCost</th>\n",
       "      <th>timestamp</th>\n",
       "    </tr>\n",
       "  </thead>\n",
       "  <tbody>\n",
       "    <tr>\n",
       "      <th>0</th>\n",
       "      <td>243680</td>\n",
       "      <td>243680</td>\n",
       "      <td>2000000019047</td>\n",
       "      <td>1890527521000</td>\n",
       "      <td>50.0</td>\n",
       "      <td>2017-03-09 09:51:19</td>\n",
       "      <td>2017-03-09 09:51:20</td>\n",
       "      <td>0.0</td>\n",
       "      <td>1489053080</td>\n",
       "    </tr>\n",
       "    <tr>\n",
       "      <th>1</th>\n",
       "      <td>244273</td>\n",
       "      <td>244273</td>\n",
       "      <td>2000000002449</td>\n",
       "      <td>1611629291000</td>\n",
       "      <td>0.0</td>\n",
       "      <td>2017-03-14 07:09:00</td>\n",
       "      <td>2017-03-14 07:10:52</td>\n",
       "      <td>0.0</td>\n",
       "      <td>1489475452</td>\n",
       "    </tr>\n",
       "    <tr>\n",
       "      <th>2</th>\n",
       "      <td>0</td>\n",
       "      <td>250661</td>\n",
       "      <td>2000000019990</td>\n",
       "      <td>1711932111000</td>\n",
       "      <td>0.0</td>\n",
       "      <td>2017-03-11 13:22:52</td>\n",
       "      <td>NaN</td>\n",
       "      <td>0.0</td>\n",
       "      <td>1489238572</td>\n",
       "    </tr>\n",
       "    <tr>\n",
       "      <th>3</th>\n",
       "      <td>0</td>\n",
       "      <td>250753</td>\n",
       "      <td>2000000020010</td>\n",
       "      <td>1894890731000</td>\n",
       "      <td>0.0</td>\n",
       "      <td>2017-03-14 14:11:27</td>\n",
       "      <td>NaN</td>\n",
       "      <td>0.0</td>\n",
       "      <td>1489500687</td>\n",
       "    </tr>\n",
       "    <tr>\n",
       "      <th>4</th>\n",
       "      <td>261730</td>\n",
       "      <td>261730</td>\n",
       "      <td>2000000021086</td>\n",
       "      <td>1894990461000</td>\n",
       "      <td>159.0</td>\n",
       "      <td>2017-03-14 14:07:48</td>\n",
       "      <td>2017-03-14 14:32:37</td>\n",
       "      <td>0.0</td>\n",
       "      <td>1489501957</td>\n",
       "    </tr>\n",
       "  </tbody>\n",
       "</table>\n",
       "</div>"
      ],
      "text/plain": [
       "   idPurchase  idOrder        idBuyer         idUser  amount  \\\n",
       "0      243680   243680  2000000019047  1890527521000    50.0   \n",
       "1      244273   244273  2000000002449  1611629291000     0.0   \n",
       "2           0   250661  2000000019990  1711932111000     0.0   \n",
       "3           0   250753  2000000020010  1894890731000     0.0   \n",
       "4      261730   261730  2000000021086  1894990461000   159.0   \n",
       "\n",
       "             startDate           finishDate  affiliationCost   timestamp  \n",
       "0  2017-03-09 09:51:19  2017-03-09 09:51:20              0.0  1489053080  \n",
       "1  2017-03-14 07:09:00  2017-03-14 07:10:52              0.0  1489475452  \n",
       "2  2017-03-11 13:22:52                  NaN              0.0  1489238572  \n",
       "3  2017-03-14 14:11:27                  NaN              0.0  1489500687  \n",
       "4  2017-03-14 14:07:48  2017-03-14 14:32:37              0.0  1489501957  "
      ]
     },
     "execution_count": 16,
     "metadata": {},
     "output_type": "execute_result"
    }
   ],
   "source": [
    "data_total_purchase=\"../DATA/IntropiaCSV/hd_total_purchase.csv\"\n",
    "readme=os.path.join(data_total_purchase)\n",
    "#!cat $readme | head\n",
    "\n",
    "\n",
    "datafile = os.path.join(data_total_purchase)\n",
    "data_total_purchase = pd.read_csv(datafile, sep=';')\n",
    "data_total_purchase.head()"
   ]
  },
  {
   "cell_type": "code",
   "execution_count": 17,
   "metadata": {
    "collapsed": true
   },
   "outputs": [],
   "source": [
    "# nota: el id de idPurchase y idOrder coenciden...lo cual nos afianza la idea que teníamos. \n",
    "# order >> basket no transaccionada, \"carrito abandonado\"\n",
    "# purchase >> basket transaccionado, \"compra finalizada\"\n",
    "# es por eso q no tenemos todas las finishDate o el amount."
   ]
  },
  {
   "cell_type": "code",
   "execution_count": 18,
   "metadata": {},
   "outputs": [
    {
     "name": "stdout",
     "output_type": "stream",
     "text": [
      "['idPurchase' 'idOrder' 'idBuyer' 'idUser' 'amount' 'startDate'\n",
      " 'finishDate' 'affiliationCost' 'timestamp']\n"
     ]
    }
   ],
   "source": [
    "print (data_total_purchase.columns.values)\n"
   ]
  },
  {
   "cell_type": "code",
   "execution_count": 20,
   "metadata": {},
   "outputs": [
    {
     "name": "stdout",
     "output_type": "stream",
     "text": [
      "<class 'pandas.core.frame.DataFrame'>\n",
      "RangeIndex: 7288 entries, 0 to 7287\n",
      "Data columns (total 9 columns):\n",
      "idPurchase         7288 non-null int64\n",
      "idOrder            7288 non-null int64\n",
      "idBuyer            7288 non-null int64\n",
      "idUser             7288 non-null int64\n",
      "amount             7288 non-null float64\n",
      "startDate          7288 non-null object\n",
      "finishDate         6197 non-null object\n",
      "affiliationCost    7288 non-null float64\n",
      "timestamp          7288 non-null int64\n",
      "dtypes: float64(2), int64(5), object(2)\n",
      "memory usage: 512.5+ KB\n"
     ]
    }
   ],
   "source": [
    "data_total_purchase.info()"
   ]
  },
  {
   "cell_type": "code",
   "execution_count": null,
   "metadata": {
    "collapsed": true
   },
   "outputs": [],
   "source": []
  }
 ],
 "metadata": {
  "kernelspec": {
   "display_name": "Python 3",
   "language": "python",
   "name": "python3"
  },
  "language_info": {
   "codemirror_mode": {
    "name": "ipython",
    "version": 3
   },
   "file_extension": ".py",
   "mimetype": "text/x-python",
   "name": "python",
   "nbconvert_exporter": "python",
   "pygments_lexer": "ipython3",
   "version": "3.6.1"
  }
 },
 "nbformat": 4,
 "nbformat_minor": 2
}
