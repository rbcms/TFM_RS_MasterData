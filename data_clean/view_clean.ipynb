{
 "cells": [
  {
   "cell_type": "markdown",
   "metadata": {},
   "source": [
    "# view_clean"
   ]
  },
  {
   "cell_type": "code",
   "execution_count": 5,
   "metadata": {
    "collapsed": true
   },
   "outputs": [],
   "source": [
    "%matplotlib inline\n",
    "import matplotlib.pyplot as plt\n",
    "import numpy as np\n",
    "import pandas as pd\n",
    "import io\n",
    "import os"
   ]
  },
  {
   "cell_type": "markdown",
   "metadata": {},
   "source": [
    "# data_page1_reduced sample"
   ]
  },
  {
   "cell_type": "markdown",
   "metadata": {},
   "source": [
    "### página vista"
   ]
  },
  {
   "cell_type": "code",
   "execution_count": 7,
   "metadata": {},
   "outputs": [
    {
     "data": {
      "text/html": [
       "<div>\n",
       "<style>\n",
       "    .dataframe thead tr:only-child th {\n",
       "        text-align: right;\n",
       "    }\n",
       "\n",
       "    .dataframe thead th {\n",
       "        text-align: left;\n",
       "    }\n",
       "\n",
       "    .dataframe tbody tr th {\n",
       "        vertical-align: top;\n",
       "    }\n",
       "</style>\n",
       "<table border=\"1\" class=\"dataframe\">\n",
       "  <thead>\n",
       "    <tr style=\"text-align: right;\">\n",
       "      <th></th>\n",
       "      <th>idPage</th>\n",
       "      <th>idUser</th>\n",
       "      <th>idBuyer</th>\n",
       "      <th>idSession</th>\n",
       "      <th>idItem</th>\n",
       "      <th>itemType</th>\n",
       "      <th>url</th>\n",
       "      <th>idPrevPage</th>\n",
       "      <th>dateServed</th>\n",
       "    </tr>\n",
       "  </thead>\n",
       "  <tbody>\n",
       "    <tr>\n",
       "      <th>0</th>\n",
       "      <td>72676950</td>\n",
       "      <td>1708178691000</td>\n",
       "      <td>1708178691000</td>\n",
       "      <td>78691000</td>\n",
       "      <td>61085</td>\n",
       "      <td>product</td>\n",
       "      <td>NaN</td>\n",
       "      <td>0</td>\n",
       "      <td>2016-09-05 10:54:51</td>\n",
       "    </tr>\n",
       "    <tr>\n",
       "      <th>1</th>\n",
       "      <td>72676951</td>\n",
       "      <td>1728951061000</td>\n",
       "      <td>1728951061000</td>\n",
       "      <td>51061000</td>\n",
       "      <td>61961</td>\n",
       "      <td>product</td>\n",
       "      <td>NaN</td>\n",
       "      <td>0</td>\n",
       "      <td>2016-09-05 10:54:59</td>\n",
       "    </tr>\n",
       "    <tr>\n",
       "      <th>2</th>\n",
       "      <td>72676952</td>\n",
       "      <td>1708178691000</td>\n",
       "      <td>1708178691000</td>\n",
       "      <td>78691000</td>\n",
       "      <td>61072</td>\n",
       "      <td>product</td>\n",
       "      <td>NaN</td>\n",
       "      <td>0</td>\n",
       "      <td>2016-09-05 10:55:02</td>\n",
       "    </tr>\n",
       "    <tr>\n",
       "      <th>3</th>\n",
       "      <td>72676953</td>\n",
       "      <td>1713397911000</td>\n",
       "      <td>1713397911000</td>\n",
       "      <td>97911000</td>\n",
       "      <td>61153</td>\n",
       "      <td>product</td>\n",
       "      <td>NaN</td>\n",
       "      <td>0</td>\n",
       "      <td>2016-09-05 10:55:06</td>\n",
       "    </tr>\n",
       "    <tr>\n",
       "      <th>4</th>\n",
       "      <td>72676954</td>\n",
       "      <td>1713397911000</td>\n",
       "      <td>1713397911000</td>\n",
       "      <td>97911000</td>\n",
       "      <td>1989040287</td>\n",
       "      <td>product</td>\n",
       "      <td>NaN</td>\n",
       "      <td>0</td>\n",
       "      <td>2016-09-05 10:55:29</td>\n",
       "    </tr>\n",
       "  </tbody>\n",
       "</table>\n",
       "</div>"
      ],
      "text/plain": [
       "     idPage         idUser        idBuyer  idSession      idItem itemType  \\\n",
       "0  72676950  1708178691000  1708178691000   78691000       61085  product   \n",
       "1  72676951  1728951061000  1728951061000   51061000       61961  product   \n",
       "2  72676952  1708178691000  1708178691000   78691000       61072  product   \n",
       "3  72676953  1713397911000  1713397911000   97911000       61153  product   \n",
       "4  72676954  1713397911000  1713397911000   97911000  1989040287  product   \n",
       "\n",
       "   url  idPrevPage           dateServed  \n",
       "0  NaN           0  2016-09-05 10:54:51  \n",
       "1  NaN           0  2016-09-05 10:54:59  \n",
       "2  NaN           0  2016-09-05 10:55:02  \n",
       "3  NaN           0  2016-09-05 10:55:06  \n",
       "4  NaN           0  2016-09-05 10:55:29  "
      ]
     },
     "execution_count": 7,
     "metadata": {},
     "output_type": "execute_result"
    }
   ],
   "source": [
    "data_page1=\"../DATA/IntropiaCSV/hd_page1.csv\"\n",
    "data_page1= pd.read_csv(\"../DATA/IntropiaCSV/hd_page1.csv\", sep=';')\n",
    "data_page1.head()"
   ]
  },
  {
   "cell_type": "code",
   "execution_count": 8,
   "metadata": {},
   "outputs": [
    {
     "data": {
      "text/plain": [
       "Index(['idPage', 'idUser', 'idBuyer', 'idSession', 'idItem', 'itemType', 'url',\n",
       "       'idPrevPage', 'dateServed'],\n",
       "      dtype='object')"
      ]
     },
     "execution_count": 8,
     "metadata": {},
     "output_type": "execute_result"
    }
   ],
   "source": [
    "data_page1.columns"
   ]
  },
  {
   "cell_type": "code",
   "execution_count": 9,
   "metadata": {
    "collapsed": true
   },
   "outputs": [],
   "source": [
    "# Este archivo contiene mucha informacion.\n",
    "# IdUser es igual que IdBuyer!!!!\n",
    "# Hay relación con dateServer y estartDate/finishDate >> se puede hacer algo con las fechas?"
   ]
  },
  {
   "cell_type": "code",
   "execution_count": 10,
   "metadata": {},
   "outputs": [
    {
     "name": "stdout",
     "output_type": "stream",
     "text": [
      "<class 'pandas.core.frame.DataFrame'>\n",
      "RangeIndex: 5000000 entries, 0 to 4999999\n",
      "Data columns (total 9 columns):\n",
      "idPage        int64\n",
      "idUser        int64\n",
      "idBuyer       int64\n",
      "idSession     int64\n",
      "idItem        int64\n",
      "itemType      object\n",
      "url           object\n",
      "idPrevPage    int64\n",
      "dateServed    object\n",
      "dtypes: int64(6), object(3)\n",
      "memory usage: 343.3+ MB\n"
     ]
    }
   ],
   "source": [
    "# Esto es un muestra de los datos, el resto del archivo está en page.\n",
    "\n",
    "data_page1.info()"
   ]
  },
  {
   "cell_type": "code",
   "execution_count": 11,
   "metadata": {
    "collapsed": true
   },
   "outputs": [],
   "source": [
    "# IteType 2 ?? que es esto??\n",
    "# Tenemos idSession bastante menor que las Páginas vistas, cuantas páginas ve un usuario antes de comprar? \n",
    "# Algún patrón?\n",
    "# Se ven 5420 productos diferentes. Hay que analizar mas esto.\n",
    "# Se navega por 23933 url distinas, ojo >> hay distintos sites."
   ]
  },
  {
   "cell_type": "code",
   "execution_count": 12,
   "metadata": {},
   "outputs": [
    {
     "data": {
      "text/plain": [
       "Index(['idPage', 'idUser', 'idBuyer', 'idSession', 'idItem', 'itemType', 'url',\n",
       "       'idPrevPage', 'dateServed'],\n",
       "      dtype='object')"
      ]
     },
     "execution_count": 12,
     "metadata": {},
     "output_type": "execute_result"
    }
   ],
   "source": [
    "data_page1.columns\n"
   ]
  },
  {
   "cell_type": "code",
   "execution_count": 13,
   "metadata": {},
   "outputs": [
    {
     "data": {
      "text/plain": [
       "idPage        5000000\n",
       "idUser         362149\n",
       "idBuyer        362149\n",
       "idSession       35631\n",
       "idItem           5420\n",
       "itemType            2\n",
       "url             23933\n",
       "idPrevPage          1\n",
       "dateServed    2895041\n",
       "dtype: int32"
      ]
     },
     "execution_count": 13,
     "metadata": {},
     "output_type": "execute_result"
    }
   ],
   "source": [
    "# valores unicos de cada columna \n",
    "\n",
    "def count_unique(column):\n",
    "    return len(column.unique())\n",
    "\n",
    "data_page1[['idPage', 'idUser', 'idBuyer', 'idSession', 'idItem', 'itemType', 'url',\n",
    "       'idPrevPage', 'dateServed']].apply(count_unique, axis=0).astype(np.int32)"
   ]
  },
  {
   "cell_type": "code",
   "execution_count": 14,
   "metadata": {},
   "outputs": [
    {
     "data": {
      "text/plain": [
       "idPage        5000000\n",
       "idUser        5000000\n",
       "idBuyer       5000000\n",
       "idSession     5000000\n",
       "idItem        5000000\n",
       "itemType      2189827\n",
       "url           2810173\n",
       "idPrevPage    5000000\n",
       "dateServed    5000000\n",
       "dtype: int64"
      ]
     },
     "execution_count": 14,
     "metadata": {},
     "output_type": "execute_result"
    }
   ],
   "source": [
    "# volores totales\n",
    "\n",
    "data_page1.count()"
   ]
  },
  {
   "cell_type": "code",
   "execution_count": 31,
   "metadata": {
    "scrolled": false
   },
   "outputs": [
    {
     "name": "stdout",
     "output_type": "stream",
     "text": [
      "idSession\n",
      "56481000    43265\n",
      "31991000     5530\n",
      "29241000     4900\n",
      "16471000     4408\n",
      "22041000     4381\n",
      "13021000     4354\n",
      "59611000     4237\n",
      "61701000     4179\n",
      "21101000     4121\n",
      "4141000      3881\n",
      "dtype: int64\n"
     ]
    }
   ],
   "source": [
    "# Vistazo a la cantidad de idSession que son recurrentes.\n",
    "\n",
    "session_count = data_page1.groupby('idSession').size().sort_values(ascending=False)\n",
    "print (session_count[:10])\n",
    "\n",
    "# que significa esto? a que se refiere exactamente este número ?"
   ]
  },
  {
   "cell_type": "code",
   "execution_count": 16,
   "metadata": {
    "collapsed": true
   },
   "outputs": [],
   "source": [
    "# nota: el id de idPurchase y idOrder coenciden...lo cual nos afianza la idea que teníamos. \n",
    "# order >> basket no transaccionada, \"carrito abandonado\"\n",
    "# purchase >> basket transaccionado, \"compra finalizada\"\n",
    "# es por eso q no tenemos todas las finishDate o el amount."
   ]
  },
  {
   "cell_type": "code",
   "execution_count": 17,
   "metadata": {},
   "outputs": [
    {
     "data": {
      "text/plain": [
       "Index(['idPage', 'idUser', 'idBuyer', 'idSession', 'idItem', 'itemType', 'url',\n",
       "       'idPrevPage', 'dateServed'],\n",
       "      dtype='object')"
      ]
     },
     "execution_count": 17,
     "metadata": {},
     "output_type": "execute_result"
    }
   ],
   "source": [
    "data_page1.columns"
   ]
  },
  {
   "cell_type": "code",
   "execution_count": 18,
   "metadata": {},
   "outputs": [
    {
     "data": {
      "text/plain": [
       "idSession\n",
       "78691000   NaN\n",
       "51061000   NaN\n",
       "78691000   NaN\n",
       "97911000   NaN\n",
       "97911000   NaN\n",
       "21451000   NaN\n",
       "78691000   NaN\n",
       "22781000   NaN\n",
       "28491000   NaN\n",
       "28401000   NaN\n",
       "Name: idPage, dtype: float64"
      ]
     },
     "execution_count": 18,
     "metadata": {},
     "output_type": "execute_result"
    }
   ],
   "source": [
    "# esto que es???\n",
    "relaciones= data_page1['idPage'][data_page1['idSession']]\n",
    "relaciones[:10]"
   ]
  },
  {
   "cell_type": "code",
   "execution_count": 19,
   "metadata": {
    "collapsed": true
   },
   "outputs": [],
   "source": [
    "# sobre los paises\n",
    "# que significan las útimas URL's??? vienes de emails recuperción carritos? "
   ]
  },
  {
   "cell_type": "code",
   "execution_count": 20,
   "metadata": {},
   "outputs": [
    {
     "data": {
      "text/plain": [
       "0             2810288\n",
       "1409449828      17391\n",
       "3715763200      15094\n",
       "2483040391      13577\n",
       "3277822058      13044\n",
       "747991166       12094\n",
       "538326977       11066\n",
       "3509627653      11065\n",
       "4111335765      10716\n",
       "1830590015      10065\n",
       "3627358853       9996\n",
       "2644094880       9781\n",
       "3486491630       9356\n",
       "3278411165       9281\n",
       "1195603200       8831\n",
       "1969217541       8518\n",
       "2587811915       8396\n",
       "386856917        7507\n",
       "2133796054       7387\n",
       "2175565609       7354\n",
       "Name: idItem, dtype: int64"
      ]
     },
     "execution_count": 20,
     "metadata": {},
     "output_type": "execute_result"
    }
   ],
   "source": [
    "num_item = data_page1['idItem'].value_counts()\n",
    "num_item[:20]\n"
   ]
  },
  {
   "cell_type": "code",
   "execution_count": null,
   "metadata": {
    "collapsed": true
   },
   "outputs": [],
   "source": []
  },
  {
   "cell_type": "code",
   "execution_count": null,
   "metadata": {
    "collapsed": true
   },
   "outputs": [],
   "source": []
  },
  {
   "cell_type": "code",
   "execution_count": null,
   "metadata": {
    "collapsed": true
   },
   "outputs": [],
   "source": []
  },
  {
   "cell_type": "code",
   "execution_count": null,
   "metadata": {
    "collapsed": true
   },
   "outputs": [],
   "source": []
  },
  {
   "cell_type": "code",
   "execution_count": null,
   "metadata": {
    "collapsed": true
   },
   "outputs": [],
   "source": []
  }
 ],
 "metadata": {
  "kernelspec": {
   "display_name": "Python 3",
   "language": "python",
   "name": "python3"
  },
  "language_info": {
   "codemirror_mode": {
    "name": "ipython",
    "version": 3
   },
   "file_extension": ".py",
   "mimetype": "text/x-python",
   "name": "python",
   "nbconvert_exporter": "python",
   "pygments_lexer": "ipython3",
   "version": "3.6.1"
  }
 },
 "nbformat": 4,
 "nbformat_minor": 2
}
