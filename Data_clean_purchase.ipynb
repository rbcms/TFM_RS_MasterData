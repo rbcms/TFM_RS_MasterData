{
 "cells": [
  {
   "cell_type": "markdown",
   "metadata": {},
   "source": [
    "# Preparamos los datos"
   ]
  },
  {
   "cell_type": "code",
   "execution_count": 295,
   "metadata": {
    "collapsed": true
   },
   "outputs": [],
   "source": [
    "%matplotlib inline\n",
    "import matplotlib.pyplot as plt\n",
    "import numpy as np\n",
    "import pandas as pd\n",
    "import io\n",
    "import os"
   ]
  },
  {
   "cell_type": "markdown",
   "metadata": {},
   "source": [
    "# data_purchase"
   ]
  },
  {
   "cell_type": "markdown",
   "metadata": {},
   "source": [
    "<strong>nota:<br>\n",
    "Pedidos (purchases) transaccionados desglosados por línea de pedido.<br>\n",
    "Cada item comprado representa una linea de pedido.<br>\n",
    "Los pedido están consolidados en el archivo hd_total_purchase<br><br>\n",
    "Se puede ver descripción detallada de los datos <a href=\"http://files.grouplens.org/datasets/movielens/\">aquí >></a> </strong><br><br>\n"
   ]
  },
  {
   "cell_type": "code",
   "execution_count": 296,
   "metadata": {
    "collapsed": true
   },
   "outputs": [],
   "source": [
    "data_purchase=\"./DATA/IntropiaCSV/hd_purchase.csv\"\n",
    "\n",
    "readme=os.path.join(data_purchase)\n",
    "#cat $readme | head"
   ]
  },
  {
   "cell_type": "code",
   "execution_count": 297,
   "metadata": {
    "scrolled": true
   },
   "outputs": [
    {
     "data": {
      "text/html": [
       "<div>\n",
       "<style>\n",
       "    .dataframe thead tr:only-child th {\n",
       "        text-align: right;\n",
       "    }\n",
       "\n",
       "    .dataframe thead th {\n",
       "        text-align: left;\n",
       "    }\n",
       "\n",
       "    .dataframe tbody tr th {\n",
       "        vertical-align: top;\n",
       "    }\n",
       "</style>\n",
       "<table border=\"1\" class=\"dataframe\">\n",
       "  <thead>\n",
       "    <tr style=\"text-align: right;\">\n",
       "      <th></th>\n",
       "      <th>idPurchase</th>\n",
       "      <th>idProduct</th>\n",
       "      <th>productType</th>\n",
       "      <th>idBuyer</th>\n",
       "      <th>price</th>\n",
       "      <th>quantity</th>\n",
       "      <th>date</th>\n",
       "      <th>active</th>\n",
       "      <th>affiliationCost</th>\n",
       "      <th>idRecommendation</th>\n",
       "      <th>timestamp</th>\n",
       "    </tr>\n",
       "  </thead>\n",
       "  <tbody>\n",
       "    <tr>\n",
       "      <th>0</th>\n",
       "      <td>243680</td>\n",
       "      <td>2843839620</td>\n",
       "      <td>product</td>\n",
       "      <td>2000000019047</td>\n",
       "      <td>134.0</td>\n",
       "      <td>1</td>\n",
       "      <td>2017-03-09 09:47:48</td>\n",
       "      <td>1</td>\n",
       "      <td>0.0</td>\n",
       "      <td>0</td>\n",
       "      <td>1489053080</td>\n",
       "    </tr>\n",
       "    <tr>\n",
       "      <th>1</th>\n",
       "      <td>244273</td>\n",
       "      <td>4018604325</td>\n",
       "      <td>product</td>\n",
       "      <td>2000000002449</td>\n",
       "      <td>0.0</td>\n",
       "      <td>1</td>\n",
       "      <td>2017-03-14 07:08:56</td>\n",
       "      <td>1</td>\n",
       "      <td>0.0</td>\n",
       "      <td>0</td>\n",
       "      <td>1489475452</td>\n",
       "    </tr>\n",
       "    <tr>\n",
       "      <th>2</th>\n",
       "      <td>252791</td>\n",
       "      <td>1085220167</td>\n",
       "      <td>product</td>\n",
       "      <td>2000000003871</td>\n",
       "      <td>234.0</td>\n",
       "      <td>1</td>\n",
       "      <td>2017-03-09 10:56:39</td>\n",
       "      <td>1</td>\n",
       "      <td>0.0</td>\n",
       "      <td>0</td>\n",
       "      <td>1489066841</td>\n",
       "    </tr>\n",
       "    <tr>\n",
       "      <th>3</th>\n",
       "      <td>252791</td>\n",
       "      <td>1669405786</td>\n",
       "      <td>product</td>\n",
       "      <td>2000000003871</td>\n",
       "      <td>177.0</td>\n",
       "      <td>1</td>\n",
       "      <td>2017-03-09 13:37:54</td>\n",
       "      <td>1</td>\n",
       "      <td>0.0</td>\n",
       "      <td>0</td>\n",
       "      <td>1489066841</td>\n",
       "    </tr>\n",
       "    <tr>\n",
       "      <th>4</th>\n",
       "      <td>252791</td>\n",
       "      <td>2814652374</td>\n",
       "      <td>product</td>\n",
       "      <td>2000000003871</td>\n",
       "      <td>161.0</td>\n",
       "      <td>1</td>\n",
       "      <td>2017-03-09 10:56:39</td>\n",
       "      <td>1</td>\n",
       "      <td>0.0</td>\n",
       "      <td>0</td>\n",
       "      <td>1489066841</td>\n",
       "    </tr>\n",
       "  </tbody>\n",
       "</table>\n",
       "</div>"
      ],
      "text/plain": [
       "   idPurchase   idProduct productType        idBuyer  price  quantity  \\\n",
       "0      243680  2843839620     product  2000000019047  134.0         1   \n",
       "1      244273  4018604325     product  2000000002449    0.0         1   \n",
       "2      252791  1085220167     product  2000000003871  234.0         1   \n",
       "3      252791  1669405786     product  2000000003871  177.0         1   \n",
       "4      252791  2814652374     product  2000000003871  161.0         1   \n",
       "\n",
       "                  date  active  affiliationCost  idRecommendation   timestamp  \n",
       "0  2017-03-09 09:47:48       1              0.0                 0  1489053080  \n",
       "1  2017-03-14 07:08:56       1              0.0                 0  1489475452  \n",
       "2  2017-03-09 10:56:39       1              0.0                 0  1489066841  \n",
       "3  2017-03-09 13:37:54       1              0.0                 0  1489066841  \n",
       "4  2017-03-09 10:56:39       1              0.0                 0  1489066841  "
      ]
     },
     "execution_count": 297,
     "metadata": {},
     "output_type": "execute_result"
    }
   ],
   "source": [
    "datafile = os.path.join(data_purchase)\n",
    "data_purchase = pd.read_csv(datafile, sep=';')\n",
    "data_purchase.head()"
   ]
  },
  {
   "cell_type": "code",
   "execution_count": 298,
   "metadata": {},
   "outputs": [
    {
     "name": "stdout",
     "output_type": "stream",
     "text": [
      "['idPurchase' 'idProduct' 'productType' 'idBuyer' 'price' 'quantity' 'date'\n",
      " 'active' 'affiliationCost' 'idRecommendation' 'timestamp']\n"
     ]
    }
   ],
   "source": [
    "print (data_purchase.columns.values)"
   ]
  },
  {
   "cell_type": "code",
   "execution_count": 299,
   "metadata": {},
   "outputs": [
    {
     "name": "stdout",
     "output_type": "stream",
     "text": [
      "<class 'pandas.core.frame.DataFrame'>\n",
      "RangeIndex: 11803 entries, 0 to 11802\n",
      "Data columns (total 11 columns):\n",
      "idPurchase          11803 non-null int64\n",
      "idProduct           11803 non-null int64\n",
      "productType         11803 non-null object\n",
      "idBuyer             11803 non-null int64\n",
      "price               11803 non-null float64\n",
      "quantity            11803 non-null int64\n",
      "date                11803 non-null object\n",
      "active              11803 non-null int64\n",
      "affiliationCost     11803 non-null float64\n",
      "idRecommendation    11803 non-null int64\n",
      "timestamp           11803 non-null int64\n",
      "dtypes: float64(2), int64(7), object(2)\n",
      "memory usage: 1014.4+ KB\n"
     ]
    }
   ],
   "source": [
    "data_purchase.info()"
   ]
  },
  {
   "cell_type": "code",
   "execution_count": 300,
   "metadata": {},
   "outputs": [
    {
     "name": "stdout",
     "output_type": "stream",
     "text": [
      "2058732060    72.015589\n",
      "472910197     64.390409\n",
      "3989064406    53.376260\n",
      "1537032696    44.056596\n",
      "275175147     43.209354\n",
      "2675795017    41.514869\n",
      "774984129     38.973142\n",
      "639086837     37.278658\n",
      "3293198965    37.278658\n",
      "765964016     36.431416\n",
      "Name: idProduct, dtype: float64\n"
     ]
    }
   ],
   "source": [
    "# frecuencia porcentual de una variable. \n",
    "\n",
    "data_purchase_frecuence = data_purchase[\"idProduct\"].value_counts(normalize = True)[:10]*100\n",
    "print (data_purchase_frecuence*100)"
   ]
  },
  {
   "cell_type": "code",
   "execution_count": 301,
   "metadata": {},
   "outputs": [
    {
     "data": {
      "text/plain": [
       "price\n",
       "(0, 100]      1510\n",
       "(100, 200]    5152\n",
       "(200, 300]    3241\n",
       "(300, 400]    1226\n",
       "(400, 500]     249\n",
       "(500, 600]      72\n",
       "(600, 700]      45\n",
       "(700, 800]       9\n",
       "(800, 900]       0\n",
       "dtype: int64"
      ]
     },
     "execution_count": 301,
     "metadata": {},
     "output_type": "execute_result"
    }
   ],
   "source": [
    "# agrupa la variable precio en escalas.\n",
    "# Clasificación\n",
    "\n",
    "price=data_purchase.groupby(pd.cut(data_purchase.price, range(0, 1000, 100))).size()\n",
    "\n",
    "price"
   ]
  },
  {
   "cell_type": "code",
   "execution_count": 302,
   "metadata": {},
   "outputs": [
    {
     "name": "stdout",
     "output_type": "stream",
     "text": [
      "['idPurchase' 'idProduct' 'productType' 'idBuyer' 'price' 'quantity' 'date'\n",
      " 'active' 'affiliationCost' 'idRecommendation' 'timestamp']\n"
     ]
    }
   ],
   "source": [
    "print (data_purchase.columns.values)"
   ]
  },
  {
   "cell_type": "code",
   "execution_count": 303,
   "metadata": {},
   "outputs": [
    {
     "data": {
      "text/html": [
       "<div>\n",
       "<style>\n",
       "    .dataframe thead tr:only-child th {\n",
       "        text-align: right;\n",
       "    }\n",
       "\n",
       "    .dataframe thead th {\n",
       "        text-align: left;\n",
       "    }\n",
       "\n",
       "    .dataframe tbody tr th {\n",
       "        vertical-align: top;\n",
       "    }\n",
       "</style>\n",
       "<table border=\"1\" class=\"dataframe\">\n",
       "  <thead>\n",
       "    <tr style=\"text-align: right;\">\n",
       "      <th></th>\n",
       "      <th>idPurchase</th>\n",
       "      <th>idProduct</th>\n",
       "      <th>idBuyer</th>\n",
       "      <th>price</th>\n",
       "      <th>quantity</th>\n",
       "    </tr>\n",
       "  </thead>\n",
       "  <tbody>\n",
       "    <tr>\n",
       "      <th>230</th>\n",
       "      <td>445045</td>\n",
       "      <td>472910197</td>\n",
       "      <td>2889752961000</td>\n",
       "      <td>268.0</td>\n",
       "      <td>2</td>\n",
       "    </tr>\n",
       "    <tr>\n",
       "      <th>231</th>\n",
       "      <td>445046</td>\n",
       "      <td>472910197</td>\n",
       "      <td>2889755321000</td>\n",
       "      <td>268.0</td>\n",
       "      <td>1</td>\n",
       "    </tr>\n",
       "    <tr>\n",
       "      <th>232</th>\n",
       "      <td>445061</td>\n",
       "      <td>976189171</td>\n",
       "      <td>2889769221000</td>\n",
       "      <td>305.0</td>\n",
       "      <td>1</td>\n",
       "    </tr>\n",
       "    <tr>\n",
       "      <th>233</th>\n",
       "      <td>445061</td>\n",
       "      <td>2594368303</td>\n",
       "      <td>2889769221000</td>\n",
       "      <td>220.0</td>\n",
       "      <td>1</td>\n",
       "    </tr>\n",
       "    <tr>\n",
       "      <th>234</th>\n",
       "      <td>445061</td>\n",
       "      <td>3316893192</td>\n",
       "      <td>2889769221000</td>\n",
       "      <td>120.0</td>\n",
       "      <td>1</td>\n",
       "    </tr>\n",
       "  </tbody>\n",
       "</table>\n",
       "</div>"
      ],
      "text/plain": [
       "     idPurchase   idProduct        idBuyer  price  quantity\n",
       "230      445045   472910197  2889752961000  268.0         2\n",
       "231      445046   472910197  2889755321000  268.0         1\n",
       "232      445061   976189171  2889769221000  305.0         1\n",
       "233      445061  2594368303  2889769221000  220.0         1\n",
       "234      445061  3316893192  2889769221000  120.0         1"
      ]
     },
     "execution_count": 303,
     "metadata": {},
     "output_type": "execute_result"
    }
   ],
   "source": [
    "# vistazo selectivo, elimino aquellas columnas que no me interesan.\n",
    "\n",
    "data_purchase2=data_purchase[['idPurchase','idProduct','idBuyer','price','quantity']]\n",
    "data_purchase2.iloc[230:235]"
   ]
  },
  {
   "cell_type": "code",
   "execution_count": 304,
   "metadata": {},
   "outputs": [
    {
     "data": {
      "text/html": [
       "<div>\n",
       "<style>\n",
       "    .dataframe thead tr:only-child th {\n",
       "        text-align: right;\n",
       "    }\n",
       "\n",
       "    .dataframe thead th {\n",
       "        text-align: left;\n",
       "    }\n",
       "\n",
       "    .dataframe tbody tr th {\n",
       "        vertical-align: top;\n",
       "    }\n",
       "</style>\n",
       "<table border=\"1\" class=\"dataframe\">\n",
       "  <thead>\n",
       "    <tr style=\"text-align: right;\">\n",
       "      <th></th>\n",
       "      <th>idPurchase</th>\n",
       "      <th>idProduct</th>\n",
       "      <th>idBuyer</th>\n",
       "      <th>price</th>\n",
       "      <th>quantity</th>\n",
       "    </tr>\n",
       "  </thead>\n",
       "  <tbody>\n",
       "    <tr>\n",
       "      <th>0</th>\n",
       "      <td>243680</td>\n",
       "      <td>2843839620</td>\n",
       "      <td>2000000019047</td>\n",
       "      <td>134.0</td>\n",
       "      <td>1</td>\n",
       "    </tr>\n",
       "    <tr>\n",
       "      <th>2</th>\n",
       "      <td>252791</td>\n",
       "      <td>1085220167</td>\n",
       "      <td>2000000003871</td>\n",
       "      <td>234.0</td>\n",
       "      <td>1</td>\n",
       "    </tr>\n",
       "    <tr>\n",
       "      <th>3</th>\n",
       "      <td>252791</td>\n",
       "      <td>1669405786</td>\n",
       "      <td>2000000003871</td>\n",
       "      <td>177.0</td>\n",
       "      <td>1</td>\n",
       "    </tr>\n",
       "    <tr>\n",
       "      <th>4</th>\n",
       "      <td>252791</td>\n",
       "      <td>2814652374</td>\n",
       "      <td>2000000003871</td>\n",
       "      <td>161.0</td>\n",
       "      <td>1</td>\n",
       "    </tr>\n",
       "    <tr>\n",
       "      <th>5</th>\n",
       "      <td>261730</td>\n",
       "      <td>85468400</td>\n",
       "      <td>2000000021086</td>\n",
       "      <td>85.0</td>\n",
       "      <td>1</td>\n",
       "    </tr>\n",
       "  </tbody>\n",
       "</table>\n",
       "</div>"
      ],
      "text/plain": [
       "   idPurchase   idProduct        idBuyer  price  quantity\n",
       "0      243680  2843839620  2000000019047  134.0         1\n",
       "2      252791  1085220167  2000000003871  234.0         1\n",
       "3      252791  1669405786  2000000003871  177.0         1\n",
       "4      252791  2814652374  2000000003871  161.0         1\n",
       "5      261730    85468400  2000000021086   85.0         1"
      ]
     },
     "execution_count": 304,
     "metadata": {},
     "output_type": "execute_result"
    }
   ],
   "source": [
    "# buscamos aquellos price = 0 para no considerarlos, ya que estamos en purchase.\n",
    "\n",
    "data_purchase2  =  data_purchase2 . query ( 'price> 0' )  \n",
    "\n",
    "data_purchase2.head(5)"
   ]
  },
  {
   "cell_type": "code",
   "execution_count": 305,
   "metadata": {
    "collapsed": true
   },
   "outputs": [],
   "source": [
    "# guardo el archviode nuevo solo con las columans que me interesan."
   ]
  },
  {
   "cell_type": "code",
   "execution_count": 306,
   "metadata": {},
   "outputs": [],
   "source": [
    "data_purchase2.to_csv('./DATA/IntropiaCSV/hd_purchase_2.csv')"
   ]
  },
  {
   "cell_type": "code",
   "execution_count": 307,
   "metadata": {},
   "outputs": [
    {
     "data": {
      "text/html": [
       "<div>\n",
       "<style>\n",
       "    .dataframe thead tr:only-child th {\n",
       "        text-align: right;\n",
       "    }\n",
       "\n",
       "    .dataframe thead th {\n",
       "        text-align: left;\n",
       "    }\n",
       "\n",
       "    .dataframe tbody tr th {\n",
       "        vertical-align: top;\n",
       "    }\n",
       "</style>\n",
       "<table border=\"1\" class=\"dataframe\">\n",
       "  <thead>\n",
       "    <tr style=\"text-align: right;\">\n",
       "      <th></th>\n",
       "      <th>idPurchase</th>\n",
       "      <th>idProduct</th>\n",
       "      <th>idBuyer</th>\n",
       "      <th>price</th>\n",
       "      <th>quantity</th>\n",
       "    </tr>\n",
       "  </thead>\n",
       "  <tbody>\n",
       "    <tr>\n",
       "      <th>0</th>\n",
       "      <td>243680</td>\n",
       "      <td>2843839620</td>\n",
       "      <td>2000000019047</td>\n",
       "      <td>134.0</td>\n",
       "      <td>1</td>\n",
       "    </tr>\n",
       "    <tr>\n",
       "      <th>2</th>\n",
       "      <td>252791</td>\n",
       "      <td>1085220167</td>\n",
       "      <td>2000000003871</td>\n",
       "      <td>234.0</td>\n",
       "      <td>1</td>\n",
       "    </tr>\n",
       "    <tr>\n",
       "      <th>3</th>\n",
       "      <td>252791</td>\n",
       "      <td>1669405786</td>\n",
       "      <td>2000000003871</td>\n",
       "      <td>177.0</td>\n",
       "      <td>1</td>\n",
       "    </tr>\n",
       "    <tr>\n",
       "      <th>4</th>\n",
       "      <td>252791</td>\n",
       "      <td>2814652374</td>\n",
       "      <td>2000000003871</td>\n",
       "      <td>161.0</td>\n",
       "      <td>1</td>\n",
       "    </tr>\n",
       "    <tr>\n",
       "      <th>5</th>\n",
       "      <td>261730</td>\n",
       "      <td>85468400</td>\n",
       "      <td>2000000021086</td>\n",
       "      <td>85.0</td>\n",
       "      <td>1</td>\n",
       "    </tr>\n",
       "  </tbody>\n",
       "</table>\n",
       "</div>"
      ],
      "text/plain": [
       "   idPurchase   idProduct        idBuyer  price  quantity\n",
       "0      243680  2843839620  2000000019047  134.0         1\n",
       "2      252791  1085220167  2000000003871  234.0         1\n",
       "3      252791  1669405786  2000000003871  177.0         1\n",
       "4      252791  2814652374  2000000003871  161.0         1\n",
       "5      261730    85468400  2000000021086   85.0         1"
      ]
     },
     "execution_count": 307,
     "metadata": {},
     "output_type": "execute_result"
    }
   ],
   "source": [
    "data_purchase2.head()"
   ]
  },
  {
   "cell_type": "code",
   "execution_count": 308,
   "metadata": {},
   "outputs": [
    {
     "name": "stdout",
     "output_type": "stream",
     "text": [
      "<class 'pandas.core.frame.DataFrame'>\n",
      "Int64Index: 11504 entries, 0 to 11802\n",
      "Data columns (total 5 columns):\n",
      "idPurchase    11504 non-null int64\n",
      "idProduct     11504 non-null int64\n",
      "idBuyer       11504 non-null int64\n",
      "price         11504 non-null float64\n",
      "quantity      11504 non-null int64\n",
      "dtypes: float64(1), int64(4)\n",
      "memory usage: 539.2 KB\n"
     ]
    }
   ],
   "source": [
    "data_purchase2.info()"
   ]
  },
  {
   "cell_type": "code",
   "execution_count": 309,
   "metadata": {},
   "outputs": [
    {
     "data": {
      "text/html": [
       "<div>\n",
       "<style>\n",
       "    .dataframe thead tr:only-child th {\n",
       "        text-align: right;\n",
       "    }\n",
       "\n",
       "    .dataframe thead th {\n",
       "        text-align: left;\n",
       "    }\n",
       "\n",
       "    .dataframe tbody tr th {\n",
       "        vertical-align: top;\n",
       "    }\n",
       "</style>\n",
       "<table border=\"1\" class=\"dataframe\">\n",
       "  <thead>\n",
       "    <tr style=\"text-align: right;\">\n",
       "      <th></th>\n",
       "      <th>idPurchase</th>\n",
       "      <th>idProduct</th>\n",
       "      <th>idBuyer</th>\n",
       "      <th>price</th>\n",
       "      <th>quantity</th>\n",
       "    </tr>\n",
       "  </thead>\n",
       "  <tbody>\n",
       "  </tbody>\n",
       "</table>\n",
       "</div>"
      ],
      "text/plain": [
       "Empty DataFrame\n",
       "Columns: [idPurchase, idProduct, idBuyer, price, quantity]\n",
       "Index: []"
      ]
     },
     "execution_count": 309,
     "metadata": {},
     "output_type": "execute_result"
    }
   ],
   "source": [
    "# comprobamos que ha guardada ok.\n",
    "\n",
    "data_purchase3  =  data_purchase2 . query ( 'price == 0' )  \n",
    "\n",
    "data_purchase3.head(10)"
   ]
  },
  {
   "cell_type": "code",
   "execution_count": 310,
   "metadata": {},
   "outputs": [
    {
     "data": {
      "text/html": [
       "<div>\n",
       "<style>\n",
       "    .dataframe thead tr:only-child th {\n",
       "        text-align: right;\n",
       "    }\n",
       "\n",
       "    .dataframe thead th {\n",
       "        text-align: left;\n",
       "    }\n",
       "\n",
       "    .dataframe tbody tr th {\n",
       "        vertical-align: top;\n",
       "    }\n",
       "</style>\n",
       "<table border=\"1\" class=\"dataframe\">\n",
       "  <thead>\n",
       "    <tr style=\"text-align: right;\">\n",
       "      <th></th>\n",
       "      <th>idPurchase</th>\n",
       "      <th>idProduct</th>\n",
       "      <th>idBuyer</th>\n",
       "      <th>price</th>\n",
       "      <th>quantity</th>\n",
       "    </tr>\n",
       "  </thead>\n",
       "  <tbody>\n",
       "    <tr>\n",
       "      <th>0</th>\n",
       "      <td>243680</td>\n",
       "      <td>2843839620</td>\n",
       "      <td>2000000019047</td>\n",
       "      <td>134.0</td>\n",
       "      <td>1</td>\n",
       "    </tr>\n",
       "    <tr>\n",
       "      <th>2</th>\n",
       "      <td>252791</td>\n",
       "      <td>1085220167</td>\n",
       "      <td>2000000003871</td>\n",
       "      <td>234.0</td>\n",
       "      <td>1</td>\n",
       "    </tr>\n",
       "    <tr>\n",
       "      <th>3</th>\n",
       "      <td>252791</td>\n",
       "      <td>1669405786</td>\n",
       "      <td>2000000003871</td>\n",
       "      <td>177.0</td>\n",
       "      <td>1</td>\n",
       "    </tr>\n",
       "    <tr>\n",
       "      <th>4</th>\n",
       "      <td>252791</td>\n",
       "      <td>2814652374</td>\n",
       "      <td>2000000003871</td>\n",
       "      <td>161.0</td>\n",
       "      <td>1</td>\n",
       "    </tr>\n",
       "    <tr>\n",
       "      <th>5</th>\n",
       "      <td>261730</td>\n",
       "      <td>85468400</td>\n",
       "      <td>2000000021086</td>\n",
       "      <td>85.0</td>\n",
       "      <td>1</td>\n",
       "    </tr>\n",
       "    <tr>\n",
       "      <th>6</th>\n",
       "      <td>261730</td>\n",
       "      <td>316185987</td>\n",
       "      <td>2000000021086</td>\n",
       "      <td>85.0</td>\n",
       "      <td>1</td>\n",
       "    </tr>\n",
       "    <tr>\n",
       "      <th>7</th>\n",
       "      <td>261730</td>\n",
       "      <td>1709157653</td>\n",
       "      <td>2000000021086</td>\n",
       "      <td>85.0</td>\n",
       "      <td>1</td>\n",
       "    </tr>\n",
       "    <tr>\n",
       "      <th>8</th>\n",
       "      <td>275873</td>\n",
       "      <td>596407575</td>\n",
       "      <td>2000000022421</td>\n",
       "      <td>242.0</td>\n",
       "      <td>1</td>\n",
       "    </tr>\n",
       "    <tr>\n",
       "      <th>9</th>\n",
       "      <td>289785</td>\n",
       "      <td>1494513654</td>\n",
       "      <td>2000000024040</td>\n",
       "      <td>145.0</td>\n",
       "      <td>1</td>\n",
       "    </tr>\n",
       "    <tr>\n",
       "      <th>10</th>\n",
       "      <td>289785</td>\n",
       "      <td>2298064152</td>\n",
       "      <td>2000000024040</td>\n",
       "      <td>210.0</td>\n",
       "      <td>1</td>\n",
       "    </tr>\n",
       "  </tbody>\n",
       "</table>\n",
       "</div>"
      ],
      "text/plain": [
       "    idPurchase   idProduct        idBuyer  price  quantity\n",
       "0       243680  2843839620  2000000019047  134.0         1\n",
       "2       252791  1085220167  2000000003871  234.0         1\n",
       "3       252791  1669405786  2000000003871  177.0         1\n",
       "4       252791  2814652374  2000000003871  161.0         1\n",
       "5       261730    85468400  2000000021086   85.0         1\n",
       "6       261730   316185987  2000000021086   85.0         1\n",
       "7       261730  1709157653  2000000021086   85.0         1\n",
       "8       275873   596407575  2000000022421  242.0         1\n",
       "9       289785  1494513654  2000000024040  145.0         1\n",
       "10      289785  2298064152  2000000024040  210.0         1"
      ]
     },
     "execution_count": 310,
     "metadata": {},
     "output_type": "execute_result"
    }
   ],
   "source": [
    "data_purchase2.head(10)"
   ]
  },
  {
   "cell_type": "code",
   "execution_count": 311,
   "metadata": {},
   "outputs": [
    {
     "name": "stdout",
     "output_type": "stream",
     "text": [
      "There are 11504 items\n",
      "There are 6209 purchases\n",
      "There are 5054 buyer\n",
      "There are 5 quantity\n",
      "There are 267 quantity\n"
     ]
    }
   ],
   "source": [
    "n_items =data_purchase2.idProduct.shape[0]\n",
    "n_purchases = data_purchase2.idPurchase.unique().shape[0]\n",
    "n_buyer = data_purchase2.idBuyer.unique().shape[0]\n",
    "n_quantity = data_purchase2.quantity.unique().shape[0]\n",
    "n_price =data_purchase2.price.unique().shape[0]\n",
    "\n",
    "\n",
    "print(\"There are %s items\" % (n_items))\n",
    "print(\"There are %s purchases\" % (n_purchases))\n",
    "print(\"There are %s buyer\" % (n_buyer))\n",
    "print(\"There are %s quantity\" % (n_quantity))\n",
    "print(\"There are %s quantity\" % (n_price))"
   ]
  },
  {
   "cell_type": "code",
   "execution_count": 312,
   "metadata": {},
   "outputs": [
    {
     "data": {
      "text/html": [
       "<div>\n",
       "<style>\n",
       "    .dataframe thead tr:only-child th {\n",
       "        text-align: right;\n",
       "    }\n",
       "\n",
       "    .dataframe thead th {\n",
       "        text-align: left;\n",
       "    }\n",
       "\n",
       "    .dataframe tbody tr th {\n",
       "        vertical-align: top;\n",
       "    }\n",
       "</style>\n",
       "<table border=\"1\" class=\"dataframe\">\n",
       "  <thead>\n",
       "    <tr style=\"text-align: right;\">\n",
       "      <th></th>\n",
       "      <th>idPurchase</th>\n",
       "      <th>idProduct</th>\n",
       "      <th>idBuyer</th>\n",
       "      <th>price</th>\n",
       "      <th>quantity</th>\n",
       "    </tr>\n",
       "  </thead>\n",
       "  <tbody>\n",
       "    <tr>\n",
       "      <th>0</th>\n",
       "      <td>243680</td>\n",
       "      <td>2843839620</td>\n",
       "      <td>2000000019047</td>\n",
       "      <td>134.0</td>\n",
       "      <td>1</td>\n",
       "    </tr>\n",
       "    <tr>\n",
       "      <th>2</th>\n",
       "      <td>252791</td>\n",
       "      <td>1085220167</td>\n",
       "      <td>2000000003871</td>\n",
       "      <td>234.0</td>\n",
       "      <td>1</td>\n",
       "    </tr>\n",
       "    <tr>\n",
       "      <th>3</th>\n",
       "      <td>252791</td>\n",
       "      <td>1669405786</td>\n",
       "      <td>2000000003871</td>\n",
       "      <td>177.0</td>\n",
       "      <td>1</td>\n",
       "    </tr>\n",
       "    <tr>\n",
       "      <th>4</th>\n",
       "      <td>252791</td>\n",
       "      <td>2814652374</td>\n",
       "      <td>2000000003871</td>\n",
       "      <td>161.0</td>\n",
       "      <td>1</td>\n",
       "    </tr>\n",
       "    <tr>\n",
       "      <th>5</th>\n",
       "      <td>261730</td>\n",
       "      <td>85468400</td>\n",
       "      <td>2000000021086</td>\n",
       "      <td>85.0</td>\n",
       "      <td>1</td>\n",
       "    </tr>\n",
       "    <tr>\n",
       "      <th>6</th>\n",
       "      <td>261730</td>\n",
       "      <td>316185987</td>\n",
       "      <td>2000000021086</td>\n",
       "      <td>85.0</td>\n",
       "      <td>1</td>\n",
       "    </tr>\n",
       "    <tr>\n",
       "      <th>7</th>\n",
       "      <td>261730</td>\n",
       "      <td>1709157653</td>\n",
       "      <td>2000000021086</td>\n",
       "      <td>85.0</td>\n",
       "      <td>1</td>\n",
       "    </tr>\n",
       "    <tr>\n",
       "      <th>8</th>\n",
       "      <td>275873</td>\n",
       "      <td>596407575</td>\n",
       "      <td>2000000022421</td>\n",
       "      <td>242.0</td>\n",
       "      <td>1</td>\n",
       "    </tr>\n",
       "    <tr>\n",
       "      <th>9</th>\n",
       "      <td>289785</td>\n",
       "      <td>1494513654</td>\n",
       "      <td>2000000024040</td>\n",
       "      <td>145.0</td>\n",
       "      <td>1</td>\n",
       "    </tr>\n",
       "    <tr>\n",
       "      <th>10</th>\n",
       "      <td>289785</td>\n",
       "      <td>2298064152</td>\n",
       "      <td>2000000024040</td>\n",
       "      <td>210.0</td>\n",
       "      <td>1</td>\n",
       "    </tr>\n",
       "  </tbody>\n",
       "</table>\n",
       "</div>"
      ],
      "text/plain": [
       "    idPurchase   idProduct        idBuyer  price  quantity\n",
       "0       243680  2843839620  2000000019047  134.0         1\n",
       "2       252791  1085220167  2000000003871  234.0         1\n",
       "3       252791  1669405786  2000000003871  177.0         1\n",
       "4       252791  2814652374  2000000003871  161.0         1\n",
       "5       261730    85468400  2000000021086   85.0         1\n",
       "6       261730   316185987  2000000021086   85.0         1\n",
       "7       261730  1709157653  2000000021086   85.0         1\n",
       "8       275873   596407575  2000000022421  242.0         1\n",
       "9       289785  1494513654  2000000024040  145.0         1\n",
       "10      289785  2298064152  2000000024040  210.0         1"
      ]
     },
     "execution_count": 312,
     "metadata": {},
     "output_type": "execute_result"
    }
   ],
   "source": [
    "data_purchase2.head(10)"
   ]
  },
  {
   "cell_type": "code",
   "execution_count": null,
   "metadata": {
    "collapsed": true
   },
   "outputs": [],
   "source": []
  },
  {
   "cell_type": "code",
   "execution_count": null,
   "metadata": {
    "collapsed": true
   },
   "outputs": [],
   "source": []
  },
  {
   "cell_type": "markdown",
   "metadata": {},
   "source": [
    "# total_purchase"
   ]
  },
  {
   "cell_type": "markdown",
   "metadata": {},
   "source": [
    "### total transacciones, pedidos consolidados"
   ]
  },
  {
   "cell_type": "code",
   "execution_count": 23,
   "metadata": {},
   "outputs": [
    {
     "data": {
      "text/html": [
       "<div>\n",
       "<style>\n",
       "    .dataframe thead tr:only-child th {\n",
       "        text-align: right;\n",
       "    }\n",
       "\n",
       "    .dataframe thead th {\n",
       "        text-align: left;\n",
       "    }\n",
       "\n",
       "    .dataframe tbody tr th {\n",
       "        vertical-align: top;\n",
       "    }\n",
       "</style>\n",
       "<table border=\"1\" class=\"dataframe\">\n",
       "  <thead>\n",
       "    <tr style=\"text-align: right;\">\n",
       "      <th></th>\n",
       "      <th>idPurchase</th>\n",
       "      <th>idOrder</th>\n",
       "      <th>idBuyer</th>\n",
       "      <th>idUser</th>\n",
       "      <th>amount</th>\n",
       "      <th>startDate</th>\n",
       "      <th>finishDate</th>\n",
       "      <th>affiliationCost</th>\n",
       "      <th>timestamp</th>\n",
       "    </tr>\n",
       "  </thead>\n",
       "  <tbody>\n",
       "    <tr>\n",
       "      <th>1522</th>\n",
       "      <td>452140</td>\n",
       "      <td>452140</td>\n",
       "      <td>2895671551000</td>\n",
       "      <td>1895658641000</td>\n",
       "      <td>213.8</td>\n",
       "      <td>2017-03-15 08:40:25</td>\n",
       "      <td>2017-03-15 08:57:26</td>\n",
       "      <td>0.0</td>\n",
       "      <td>1489568246</td>\n",
       "    </tr>\n",
       "    <tr>\n",
       "      <th>1523</th>\n",
       "      <td>452143</td>\n",
       "      <td>452143</td>\n",
       "      <td>1895662181000</td>\n",
       "      <td>1895662181000</td>\n",
       "      <td>268.0</td>\n",
       "      <td>2017-03-15 08:24:32</td>\n",
       "      <td>2017-03-15 08:24:33</td>\n",
       "      <td>0.0</td>\n",
       "      <td>1489566273</td>\n",
       "    </tr>\n",
       "    <tr>\n",
       "      <th>1524</th>\n",
       "      <td>452150</td>\n",
       "      <td>452150</td>\n",
       "      <td>2895663941000</td>\n",
       "      <td>1895658691000</td>\n",
       "      <td>324.0</td>\n",
       "      <td>2017-03-15 08:30:36</td>\n",
       "      <td>2017-03-15 08:31:53</td>\n",
       "      <td>0.0</td>\n",
       "      <td>1489566713</td>\n",
       "    </tr>\n",
       "    <tr>\n",
       "      <th>1525</th>\n",
       "      <td>0</td>\n",
       "      <td>452156</td>\n",
       "      <td>2895678021000</td>\n",
       "      <td>1859646211000</td>\n",
       "      <td>0.0</td>\n",
       "      <td>2017-03-15 08:52:10</td>\n",
       "      <td>NaN</td>\n",
       "      <td>0.0</td>\n",
       "      <td>1489567930</td>\n",
       "    </tr>\n",
       "    <tr>\n",
       "      <th>1526</th>\n",
       "      <td>452159</td>\n",
       "      <td>452159</td>\n",
       "      <td>2000000007675</td>\n",
       "      <td>1894993151000</td>\n",
       "      <td>150.0</td>\n",
       "      <td>2017-03-15 08:42:44</td>\n",
       "      <td>2017-03-15 08:44:21</td>\n",
       "      <td>0.0</td>\n",
       "      <td>1489567461</td>\n",
       "    </tr>\n",
       "    <tr>\n",
       "      <th>1527</th>\n",
       "      <td>452171</td>\n",
       "      <td>452171</td>\n",
       "      <td>2895669301000</td>\n",
       "      <td>1895670061000</td>\n",
       "      <td>171.0</td>\n",
       "      <td>2017-03-15 08:37:42</td>\n",
       "      <td>2017-03-15 08:37:43</td>\n",
       "      <td>0.0</td>\n",
       "      <td>1489567063</td>\n",
       "    </tr>\n",
       "    <tr>\n",
       "      <th>1528</th>\n",
       "      <td>452176</td>\n",
       "      <td>452176</td>\n",
       "      <td>2848145531000</td>\n",
       "      <td>1895611001000</td>\n",
       "      <td>183.0</td>\n",
       "      <td>2017-03-15 09:21:26</td>\n",
       "      <td>2017-03-15 09:23:25</td>\n",
       "      <td>0.0</td>\n",
       "      <td>1489569805</td>\n",
       "    </tr>\n",
       "    <tr>\n",
       "      <th>1529</th>\n",
       "      <td>452177</td>\n",
       "      <td>452177</td>\n",
       "      <td>2895672211001</td>\n",
       "      <td>1895669181000</td>\n",
       "      <td>151.8</td>\n",
       "      <td>2017-03-15 08:40:40</td>\n",
       "      <td>2017-03-15 08:44:16</td>\n",
       "      <td>0.0</td>\n",
       "      <td>1489567456</td>\n",
       "    </tr>\n",
       "  </tbody>\n",
       "</table>\n",
       "</div>"
      ],
      "text/plain": [
       "      idPurchase  idOrder        idBuyer         idUser  amount  \\\n",
       "1522      452140   452140  2895671551000  1895658641000   213.8   \n",
       "1523      452143   452143  1895662181000  1895662181000   268.0   \n",
       "1524      452150   452150  2895663941000  1895658691000   324.0   \n",
       "1525           0   452156  2895678021000  1859646211000     0.0   \n",
       "1526      452159   452159  2000000007675  1894993151000   150.0   \n",
       "1527      452171   452171  2895669301000  1895670061000   171.0   \n",
       "1528      452176   452176  2848145531000  1895611001000   183.0   \n",
       "1529      452177   452177  2895672211001  1895669181000   151.8   \n",
       "\n",
       "                startDate           finishDate  affiliationCost   timestamp  \n",
       "1522  2017-03-15 08:40:25  2017-03-15 08:57:26              0.0  1489568246  \n",
       "1523  2017-03-15 08:24:32  2017-03-15 08:24:33              0.0  1489566273  \n",
       "1524  2017-03-15 08:30:36  2017-03-15 08:31:53              0.0  1489566713  \n",
       "1525  2017-03-15 08:52:10                  NaN              0.0  1489567930  \n",
       "1526  2017-03-15 08:42:44  2017-03-15 08:44:21              0.0  1489567461  \n",
       "1527  2017-03-15 08:37:42  2017-03-15 08:37:43              0.0  1489567063  \n",
       "1528  2017-03-15 09:21:26  2017-03-15 09:23:25              0.0  1489569805  \n",
       "1529  2017-03-15 08:40:40  2017-03-15 08:44:16              0.0  1489567456  "
      ]
     },
     "execution_count": 23,
     "metadata": {},
     "output_type": "execute_result"
    }
   ],
   "source": [
    "data_total_purchase=\"./DATA/IntropiaCSV/hd_total_purchase.csv\"\n",
    "readme=os.path.join(data_total_purchase)\n",
    "#!cat $readme | head\n",
    "\n",
    "datafile = os.path.join(data_total_purchase)\n",
    "data_total_purchase = pd.read_csv(datafile, sep=';')\n",
    "data_total_purchase.iloc[1522:1530]"
   ]
  },
  {
   "cell_type": "markdown",
   "metadata": {},
   "source": [
    "<strong>nota:<br>\n",
    "Hay pedidos transaccionados con valor = 0 <br>\n",
    "Esto significa que son carritos q finalmente no se compraron <br>\n",
    "Por lo tanto en este archivo hd_total_purchase están aglutinados comprar y carritos, eliminamos los carritos abandonados.<br><br><br></strong>\n",
    "    "
   ]
  },
  {
   "cell_type": "code",
   "execution_count": 28,
   "metadata": {
    "collapsed": true,
    "scrolled": true
   },
   "outputs": [],
   "source": [
    "# número de pedidos agrupados por total compra\n",
    "\n",
    "amount=data_total_purchase.groupby(pd.cut(data_total_purchase.amount, range(0, 4300, 100))).size()\n",
    "\n",
    "#amount"
   ]
  },
  {
   "cell_type": "code",
   "execution_count": null,
   "metadata": {
    "collapsed": true
   },
   "outputs": [],
   "source": []
  },
  {
   "cell_type": "code",
   "execution_count": null,
   "metadata": {
    "collapsed": true
   },
   "outputs": [],
   "source": []
  }
 ],
 "metadata": {
  "kernelspec": {
   "display_name": "Python 3",
   "language": "python",
   "name": "python3"
  },
  "language_info": {
   "codemirror_mode": {
    "name": "ipython",
    "version": 3
   },
   "file_extension": ".py",
   "mimetype": "text/x-python",
   "name": "python",
   "nbconvert_exporter": "python",
   "pygments_lexer": "ipython3",
   "version": "3.6.1"
  }
 },
 "nbformat": 4,
 "nbformat_minor": 1
}
