{
 "cells": [
  {
   "cell_type": "markdown",
   "metadata": {},
   "source": [
    "# orders_clean"
   ]
  },
  {
   "cell_type": "code",
   "execution_count": 1,
   "metadata": {
    "collapsed": true
   },
   "outputs": [],
   "source": [
    "%matplotlib inline\n",
    "import matplotlib.pyplot as plt\n",
    "import numpy as np\n",
    "import pandas as pd\n",
    "import io\n",
    "import os"
   ]
  },
  {
   "cell_type": "markdown",
   "metadata": {},
   "source": [
    "# data_order"
   ]
  },
  {
   "cell_type": "markdown",
   "metadata": {},
   "source": [
    "### pedidos añadidos a la cesta por linea, es decir producto a producto."
   ]
  },
  {
   "cell_type": "code",
   "execution_count": 2,
   "metadata": {
    "collapsed": true
   },
   "outputs": [],
   "source": [
    "data_order=\"../DATA/IntropiaCSV/hd_order.csv\"\n",
    "\n",
    "readme=os.path.join(data_order)\n",
    "#cat $readme | head"
   ]
  },
  {
   "cell_type": "code",
   "execution_count": 3,
   "metadata": {
    "collapsed": true,
    "scrolled": false
   },
   "outputs": [],
   "source": [
    "datafile = os.path.join(data_order)\n",
    "data_order = pd.read_csv(datafile, sep=';')\n",
    "\n"
   ]
  },
  {
   "cell_type": "code",
   "execution_count": 4,
   "metadata": {},
   "outputs": [
    {
     "data": {
      "text/html": [
       "<div>\n",
       "<style>\n",
       "    .dataframe thead tr:only-child th {\n",
       "        text-align: right;\n",
       "    }\n",
       "\n",
       "    .dataframe thead th {\n",
       "        text-align: left;\n",
       "    }\n",
       "\n",
       "    .dataframe tbody tr th {\n",
       "        vertical-align: top;\n",
       "    }\n",
       "</style>\n",
       "<table border=\"1\" class=\"dataframe\">\n",
       "  <thead>\n",
       "    <tr style=\"text-align: right;\">\n",
       "      <th></th>\n",
       "      <th>idOrder</th>\n",
       "      <th>idProduct</th>\n",
       "      <th>productType</th>\n",
       "      <th>idBuyer</th>\n",
       "      <th>price</th>\n",
       "      <th>quantity</th>\n",
       "      <th>date</th>\n",
       "      <th>active</th>\n",
       "      <th>affiliationCost</th>\n",
       "      <th>idRecommendation</th>\n",
       "      <th>timestamp</th>\n",
       "    </tr>\n",
       "  </thead>\n",
       "  <tbody>\n",
       "  </tbody>\n",
       "</table>\n",
       "</div>"
      ],
      "text/plain": [
       "Empty DataFrame\n",
       "Columns: [idOrder, idProduct, productType, idBuyer, price, quantity, date, active, affiliationCost, idRecommendation, timestamp]\n",
       "Index: []"
      ]
     },
     "execution_count": 4,
     "metadata": {},
     "output_type": "execute_result"
    }
   ],
   "source": [
    "data_order.iloc[2230:22]"
   ]
  },
  {
   "cell_type": "code",
   "execution_count": 5,
   "metadata": {},
   "outputs": [
    {
     "data": {
      "text/plain": [
       "5"
      ]
     },
     "execution_count": 5,
     "metadata": {},
     "output_type": "execute_result"
    }
   ],
   "source": [
    "# 1 carrito con 5 uniades en total, 4 de un item y 1 de otro\n",
    "\n",
    "sum(data_order[data_order['idOrder']== 445072]['quantity']) "
   ]
  },
  {
   "cell_type": "code",
   "execution_count": 6,
   "metadata": {},
   "outputs": [
    {
     "data": {
      "text/plain": [
       "2"
      ]
     },
     "execution_count": 6,
     "metadata": {},
     "output_type": "execute_result"
    }
   ],
   "source": [
    "# tenemos 2 valores de cantidad de unidades.\n",
    "\n",
    "sum(data_order[data_order['idOrder']== 445072]['quantity'].value_counts()) "
   ]
  },
  {
   "cell_type": "code",
   "execution_count": 7,
   "metadata": {},
   "outputs": [
    {
     "data": {
      "text/plain": [
       "2247    4\n",
       "2248    1\n",
       "Name: quantity, dtype: int64"
      ]
     },
     "execution_count": 7,
     "metadata": {},
     "output_type": "execute_result"
    }
   ],
   "source": [
    "# tenemos 2 valores de cantidad de unidades, con los indices indicados.\n",
    "\n",
    "array=(data_order[data_order['idOrder']== 445072]['quantity'])\n",
    "\n",
    "array"
   ]
  },
  {
   "cell_type": "code",
   "execution_count": 8,
   "metadata": {},
   "outputs": [
    {
     "data": {
      "text/plain": [
       "pandas.core.series.Series"
      ]
     },
     "execution_count": 8,
     "metadata": {},
     "output_type": "execute_result"
    }
   ],
   "source": [
    "type(array)"
   ]
  },
  {
   "cell_type": "code",
   "execution_count": 9,
   "metadata": {},
   "outputs": [
    {
     "data": {
      "text/plain": [
       "array([4, 1])"
      ]
     },
     "execution_count": 9,
     "metadata": {},
     "output_type": "execute_result"
    }
   ],
   "source": [
    "# nos da los valores y los tengo en un array de numpay\n",
    "\n",
    "array=(data_order[data_order['idOrder']== 445072]['quantity']).unique()\n",
    "\n",
    "array"
   ]
  },
  {
   "cell_type": "code",
   "execution_count": 10,
   "metadata": {},
   "outputs": [
    {
     "data": {
      "text/plain": [
       "numpy.ndarray"
      ]
     },
     "execution_count": 10,
     "metadata": {},
     "output_type": "execute_result"
    }
   ],
   "source": [
    "type(array)"
   ]
  },
  {
   "cell_type": "code",
   "execution_count": 11,
   "metadata": {
    "collapsed": true
   },
   "outputs": [],
   "source": [
    "# REFLEXIONES:\n",
    "# Por que hay precios que son igual a cero? Significa que son compras fallidas?\n",
    "# idBuyer corresponde al idUser?\n",
    "# Cual es la relación entre date y timestamp? existe?\n"
   ]
  },
  {
   "cell_type": "code",
   "execution_count": 12,
   "metadata": {},
   "outputs": [
    {
     "data": {
      "text/plain": [
       "19195"
      ]
     },
     "execution_count": 12,
     "metadata": {},
     "output_type": "execute_result"
    }
   ],
   "source": [
    "# Listado de productos que aparecen sin precio = >> Valores en la columna idProduct tal que los valores en la columna Price son 0. \n",
    "\n",
    "product_price_zero = data_order['idProduct'][data_order['price']==0]\n",
    "\n",
    "len (product_price_zero)"
   ]
  },
  {
   "cell_type": "code",
   "execution_count": 13,
   "metadata": {},
   "outputs": [
    {
     "data": {
      "text/plain": [
       "2         809730667\n",
       "3        1147982812\n",
       "4        1221807609\n",
       "5        1247392311\n",
       "6        1311721187\n",
       "7        1396367352\n",
       "8        1507634812\n",
       "9        1742426074\n",
       "10       1995834385\n",
       "11       2077295811\n",
       "12       2854862738\n",
       "13       3133063904\n",
       "14       3609597785\n",
       "15       4168986702\n",
       "25       2288982095\n",
       "26       4200555218\n",
       "46       1367105953\n",
       "47       3089089684\n",
       "48       3474519042\n",
       "49       3907702076\n",
       "50       4285016281\n",
       "106      4018604325\n",
       "208       644309372\n",
       "209      1295853530\n",
       "210      1352809437\n",
       "211      1494513654\n",
       "212      2558540211\n",
       "213      3621625663\n",
       "224       969920088\n",
       "225      1326093561\n",
       "            ...    \n",
       "68948    4294532220\n",
       "68949    3368505045\n",
       "68951    4167547700\n",
       "68956    1096391804\n",
       "68957    2317967529\n",
       "68958    2944395560\n",
       "68963     599427485\n",
       "68975     774984129\n",
       "68977    1251978938\n",
       "68984     179045638\n",
       "68985     279508111\n",
       "68990     288241461\n",
       "68991    2438478603\n",
       "68992    2466542008\n",
       "68993    3867948819\n",
       "68994    1737273445\n",
       "68995    3935037932\n",
       "69022    1001810677\n",
       "69023    1494567111\n",
       "69024    1636480498\n",
       "69025    2857397120\n",
       "69026    3647093525\n",
       "69046    1983901326\n",
       "69047    1796740460\n",
       "69051    1469331708\n",
       "69052     751378464\n",
       "69055     279508111\n",
       "69056    2126003435\n",
       "69057    3060630605\n",
       "69058    1990179254\n",
       "Name: idProduct, Length: 19195, dtype: int64"
      ]
     },
     "execution_count": 13,
     "metadata": {},
     "output_type": "execute_result"
    }
   ],
   "source": [
    "product_price_zero"
   ]
  },
  {
   "cell_type": "code",
   "execution_count": 14,
   "metadata": {},
   "outputs": [
    {
     "name": "stdout",
     "output_type": "stream",
     "text": [
      "2017-03-07 14:41:02 2017-04-19 16:01:38\n"
     ]
    }
   ],
   "source": [
    "# minimo y máximo de una columana >> RANGO DE FECHAS\n",
    "\n",
    "print(data_order['date'].min(), data_order['date'].max())"
   ]
  },
  {
   "cell_type": "code",
   "execution_count": 15,
   "metadata": {},
   "outputs": [
    {
     "data": {
      "text/plain": [
       "Index(['idOrder', 'idProduct', 'productType', 'idBuyer', 'price', 'quantity',\n",
       "       'date', 'active', 'affiliationCost', 'idRecommendation', 'timestamp'],\n",
       "      dtype='object')"
      ]
     },
     "execution_count": 15,
     "metadata": {},
     "output_type": "execute_result"
    }
   ],
   "source": [
    "data_order.columns"
   ]
  },
  {
   "cell_type": "code",
   "execution_count": 16,
   "metadata": {},
   "outputs": [
    {
     "data": {
      "text/plain": [
       "idOrder             30106\n",
       "idProduct            2339\n",
       "idBuyer             20548\n",
       "price                 663\n",
       "quantity               26\n",
       "active                  2\n",
       "idRecommendation        4\n",
       "timestamp           50977\n",
       "dtype: int32"
      ]
     },
     "execution_count": 16,
     "metadata": {},
     "output_type": "execute_result"
    }
   ],
   "source": [
    "# elementos diferentes de cada tipo\n",
    "\n",
    "def count_unique(column):\n",
    "    return len(column.unique())\n",
    "\n",
    "data_order[['idOrder','idProduct','idBuyer','price','quantity','active','idRecommendation','timestamp']].apply(count_unique, axis=0).astype(np.int32)"
   ]
  },
  {
   "cell_type": "code",
   "execution_count": 17,
   "metadata": {
    "collapsed": true
   },
   "outputs": [],
   "source": [
    "# La cantidad ojo!\n",
    "# el timestamps es raro q apaezca un numero menor que el total de lineas del resumen."
   ]
  },
  {
   "cell_type": "code",
   "execution_count": 18,
   "metadata": {},
   "outputs": [
    {
     "name": "stdout",
     "output_type": "stream",
     "text": [
      "<class 'pandas.core.frame.DataFrame'>\n",
      "RangeIndex: 69069 entries, 0 to 69068\n",
      "Data columns (total 11 columns):\n",
      "idOrder             69069 non-null int64\n",
      "idProduct           69069 non-null int64\n",
      "productType         69069 non-null object\n",
      "idBuyer             69069 non-null int64\n",
      "price               69069 non-null float64\n",
      "quantity            69069 non-null int64\n",
      "date                69069 non-null object\n",
      "active              69069 non-null int64\n",
      "affiliationCost     69069 non-null float64\n",
      "idRecommendation    69069 non-null int64\n",
      "timestamp           69069 non-null int64\n",
      "dtypes: float64(2), int64(7), object(2)\n",
      "memory usage: 5.8+ MB\n"
     ]
    }
   ],
   "source": [
    "# info básica\n",
    "\n",
    "data_order.info()"
   ]
  },
  {
   "cell_type": "code",
   "execution_count": null,
   "metadata": {
    "collapsed": true
   },
   "outputs": [],
   "source": []
  },
  {
   "cell_type": "code",
   "execution_count": 19,
   "metadata": {},
   "outputs": [
    {
     "name": "stdout",
     "output_type": "stream",
     "text": [
      "active\n",
      "1    52848\n",
      "0    16221\n",
      "dtype: int64\n"
     ]
    }
   ],
   "source": [
    "# REFLEXIÖN \n",
    "\n",
    "\n",
    "\n",
    "\n",
    "active_count = data_order.groupby('active').size().sort_values(ascending=False)\n",
    "print (active_count)"
   ]
  },
  {
   "cell_type": "code",
   "execution_count": 20,
   "metadata": {},
   "outputs": [
    {
     "data": {
      "text/plain": [
       "0     66826\n",
       "7      1741\n",
       "8       357\n",
       "20      145\n",
       "Name: idRecommendation, dtype: int64"
      ]
     },
     "execution_count": 20,
     "metadata": {},
     "output_type": "execute_result"
    }
   ],
   "source": [
    "# 4 tipo de tipo de reocmendadores, los cuenta.\n",
    "\n",
    "recom_dif = data_order['idRecommendation'].value_counts()\n",
    "\n",
    "recom_dif\n",
    "\n"
   ]
  },
  {
   "cell_type": "code",
   "execution_count": 21,
   "metadata": {},
   "outputs": [
    {
     "data": {
      "text/plain": [
       "pandas.core.series.Series"
      ]
     },
     "execution_count": 21,
     "metadata": {},
     "output_type": "execute_result"
    }
   ],
   "source": [
    "type(recom_dif)"
   ]
  },
  {
   "cell_type": "code",
   "execution_count": 22,
   "metadata": {
    "collapsed": true
   },
   "outputs": [],
   "source": [
    "# Ojo con el primero"
   ]
  },
  {
   "cell_type": "code",
   "execution_count": 23,
   "metadata": {},
   "outputs": [
    {
     "data": {
      "text/plain": [
       "1      67537\n",
       "2       1160\n",
       "3        164\n",
       "4         89\n",
       "5         37\n",
       "6         19\n",
       "7          9\n",
       "8          8\n",
       "9          6\n",
       "14         5\n",
       "12         5\n",
       "11         4\n",
       "15         4\n",
       "10         4\n",
       "19         3\n",
       "13         2\n",
       "20         2\n",
       "21         2\n",
       "24         2\n",
       "36         1\n",
       "80         1\n",
       "22         1\n",
       "25         1\n",
       "27         1\n",
       "28         1\n",
       "120        1\n",
       "Name: quantity, dtype: int64"
      ]
     },
     "execution_count": 23,
     "metadata": {},
     "output_type": "execute_result"
    }
   ],
   "source": [
    "cant_dif = data_order['quantity'].value_counts()\n",
    "cant_dif"
   ]
  },
  {
   "cell_type": "code",
   "execution_count": 24,
   "metadata": {
    "scrolled": true
   },
   "outputs": [
    {
     "data": {
      "text/html": [
       "<div>\n",
       "<style>\n",
       "    .dataframe thead tr:only-child th {\n",
       "        text-align: right;\n",
       "    }\n",
       "\n",
       "    .dataframe thead th {\n",
       "        text-align: left;\n",
       "    }\n",
       "\n",
       "    .dataframe tbody tr th {\n",
       "        vertical-align: top;\n",
       "    }\n",
       "</style>\n",
       "<table border=\"1\" class=\"dataframe\">\n",
       "  <thead>\n",
       "    <tr style=\"text-align: right;\">\n",
       "      <th></th>\n",
       "      <th>idOrder</th>\n",
       "      <th>idProduct</th>\n",
       "      <th>idBuyer</th>\n",
       "      <th>price</th>\n",
       "      <th>quantity</th>\n",
       "      <th>active</th>\n",
       "      <th>timestamp</th>\n",
       "    </tr>\n",
       "  </thead>\n",
       "  <tbody>\n",
       "    <tr>\n",
       "      <th>230</th>\n",
       "      <td>261730</td>\n",
       "      <td>316185987</td>\n",
       "      <td>2000000021086</td>\n",
       "      <td>85.0</td>\n",
       "      <td>1</td>\n",
       "      <td>1</td>\n",
       "      <td>1489501582</td>\n",
       "    </tr>\n",
       "    <tr>\n",
       "      <th>231</th>\n",
       "      <td>261730</td>\n",
       "      <td>1709157653</td>\n",
       "      <td>2000000021086</td>\n",
       "      <td>85.0</td>\n",
       "      <td>1</td>\n",
       "      <td>1</td>\n",
       "      <td>1489501582</td>\n",
       "    </tr>\n",
       "    <tr>\n",
       "      <th>232</th>\n",
       "      <td>262152</td>\n",
       "      <td>474605896</td>\n",
       "      <td>1810714311000</td>\n",
       "      <td>299.0</td>\n",
       "      <td>1</td>\n",
       "      <td>1</td>\n",
       "      <td>1489106573</td>\n",
       "    </tr>\n",
       "    <tr>\n",
       "      <th>233</th>\n",
       "      <td>262152</td>\n",
       "      <td>3442312665</td>\n",
       "      <td>1810714311000</td>\n",
       "      <td>122.0</td>\n",
       "      <td>1</td>\n",
       "      <td>1</td>\n",
       "      <td>1489106573</td>\n",
       "    </tr>\n",
       "    <tr>\n",
       "      <th>234</th>\n",
       "      <td>262152</td>\n",
       "      <td>4032798029</td>\n",
       "      <td>1810714311000</td>\n",
       "      <td>146.0</td>\n",
       "      <td>1</td>\n",
       "      <td>1</td>\n",
       "      <td>1489106573</td>\n",
       "    </tr>\n",
       "  </tbody>\n",
       "</table>\n",
       "</div>"
      ],
      "text/plain": [
       "     idOrder   idProduct        idBuyer  price  quantity  active   timestamp\n",
       "230   261730   316185987  2000000021086   85.0         1       1  1489501582\n",
       "231   261730  1709157653  2000000021086   85.0         1       1  1489501582\n",
       "232   262152   474605896  1810714311000  299.0         1       1  1489106573\n",
       "233   262152  3442312665  1810714311000  122.0         1       1  1489106573\n",
       "234   262152  4032798029  1810714311000  146.0         1       1  1489106573"
      ]
     },
     "execution_count": 24,
     "metadata": {},
     "output_type": "execute_result"
    }
   ],
   "source": [
    "# seleccionamos columnas que mas nos interesan.\n",
    "\n",
    "data_order2=data_order[['idOrder','idProduct','idBuyer','price','quantity','active','timestamp']]\n",
    "\n",
    "# vistazo\n",
    "\n",
    "data_order2.iloc[230:235]"
   ]
  },
  {
   "cell_type": "code",
   "execution_count": 25,
   "metadata": {},
   "outputs": [
    {
     "data": {
      "text/plain": [
       "price\n",
       "(0, 100]      10080\n",
       "(100, 200]    21255\n",
       "(200, 300]    12639\n",
       "dtype: int64"
      ]
     },
     "execution_count": 25,
     "metadata": {},
     "output_type": "execute_result"
    }
   ],
   "source": [
    "# agrupa la variable precio en escalas por si luego lo podemos utilizard\n",
    "price=data_order.groupby(pd.cut(data_order.price, range(0, 400, 100))).size()\n",
    "\n",
    "# REFLEXIÓN podemos a lo mejor utilizar esto para luego mostrar los recomendadores en función del precio???\n",
    "\n",
    "price"
   ]
  },
  {
   "cell_type": "code",
   "execution_count": 26,
   "metadata": {},
   "outputs": [
    {
     "data": {
      "text/plain": [
       "<matplotlib.axes._subplots.AxesSubplot at 0x7f7c11fed2e8>"
      ]
     },
     "execution_count": 26,
     "metadata": {},
     "output_type": "execute_result"
    },
    {
     "data": {
      "image/png": "[encoded data removed]",
      "text/plain": [
       "<matplotlib.figure.Figure at 0x7f7c11fc98d0>"
      ]
     },
     "metadata": {},
     "output_type": "display_data"
    }
   ],
   "source": [
    "price.hist() # jejejeje todos los intervalos son iguales "
   ]
  },
  {
   "cell_type": "code",
   "execution_count": 27,
   "metadata": {},
   "outputs": [
    {
     "data": {
      "text/plain": [
       "<matplotlib.axes._subplots.AxesSubplot at 0x7f7c11d5be80>"
      ]
     },
     "execution_count": 27,
     "metadata": {},
     "output_type": "execute_result"
    },
    {
     "data": {
      "image/png": "[encoded data removed]",
      "text/plain": [
       "<matplotlib.figure.Figure at 0x7f7c11c8bc18>"
      ]
     },
     "metadata": {},
     "output_type": "display_data"
    }
   ],
   "source": [
    "data_order['idBuyer'].hist()"
   ]
  },
  {
   "cell_type": "code",
   "execution_count": 28,
   "metadata": {},
   "outputs": [
    {
     "data": {
      "text/plain": [
       "idOrder             30106\n",
       "idProduct            2339\n",
       "productType             1\n",
       "idBuyer             20548\n",
       "price                 663\n",
       "quantity               26\n",
       "date                50463\n",
       "active                  2\n",
       "affiliationCost         1\n",
       "idRecommendation        4\n",
       "timestamp           50977\n",
       "dtype: int32"
      ]
     },
     "execution_count": 28,
     "metadata": {},
     "output_type": "execute_result"
    }
   ],
   "source": [
    "# otra forma de hacerlo, mediante una función q retorne \n",
    "\n",
    "def count_unique(column):\n",
    "    return len(column.unique())\n",
    "\n",
    "data_order.apply(count_unique, axis=0).astype(np.int32)"
   ]
  },
  {
   "cell_type": "code",
   "execution_count": 29,
   "metadata": {
    "collapsed": true
   },
   "outputs": [],
   "source": [
    "# Algo q llama la atención es quantity >> tenemos 26 \"cantidades diferentes\", es decir encontramos, \n",
    "# carritos desde 1 prenda a 26 prendas."
   ]
  },
  {
   "cell_type": "code",
   "execution_count": 30,
   "metadata": {},
   "outputs": [
    {
     "data": {
      "text/html": [
       "<div>\n",
       "<style>\n",
       "    .dataframe thead tr:only-child th {\n",
       "        text-align: right;\n",
       "    }\n",
       "\n",
       "    .dataframe thead th {\n",
       "        text-align: left;\n",
       "    }\n",
       "\n",
       "    .dataframe tbody tr th {\n",
       "        vertical-align: top;\n",
       "    }\n",
       "</style>\n",
       "<table border=\"1\" class=\"dataframe\">\n",
       "  <thead>\n",
       "    <tr style=\"text-align: right;\">\n",
       "      <th></th>\n",
       "      <th>idOrder</th>\n",
       "      <th>idProduct</th>\n",
       "      <th>productType</th>\n",
       "      <th>price</th>\n",
       "      <th>quantity</th>\n",
       "      <th>date</th>\n",
       "      <th>active</th>\n",
       "      <th>affiliationCost</th>\n",
       "      <th>idRecommendation</th>\n",
       "      <th>timestamp</th>\n",
       "    </tr>\n",
       "    <tr>\n",
       "      <th>idBuyer</th>\n",
       "      <th></th>\n",
       "      <th></th>\n",
       "      <th></th>\n",
       "      <th></th>\n",
       "      <th></th>\n",
       "      <th></th>\n",
       "      <th></th>\n",
       "      <th></th>\n",
       "      <th></th>\n",
       "      <th></th>\n",
       "    </tr>\n",
       "  </thead>\n",
       "  <tbody>\n",
       "    <tr>\n",
       "      <th>1000004910953</th>\n",
       "      <td>1</td>\n",
       "      <td>1</td>\n",
       "      <td>1</td>\n",
       "      <td>1</td>\n",
       "      <td>1</td>\n",
       "      <td>1</td>\n",
       "      <td>1</td>\n",
       "      <td>1</td>\n",
       "      <td>1</td>\n",
       "      <td>1</td>\n",
       "    </tr>\n",
       "    <tr>\n",
       "      <th>1000004911434</th>\n",
       "      <td>5</td>\n",
       "      <td>5</td>\n",
       "      <td>5</td>\n",
       "      <td>5</td>\n",
       "      <td>5</td>\n",
       "      <td>5</td>\n",
       "      <td>5</td>\n",
       "      <td>5</td>\n",
       "      <td>5</td>\n",
       "      <td>5</td>\n",
       "    </tr>\n",
       "    <tr>\n",
       "      <th>1000004911604</th>\n",
       "      <td>2</td>\n",
       "      <td>2</td>\n",
       "      <td>2</td>\n",
       "      <td>2</td>\n",
       "      <td>2</td>\n",
       "      <td>2</td>\n",
       "      <td>2</td>\n",
       "      <td>2</td>\n",
       "      <td>2</td>\n",
       "      <td>2</td>\n",
       "    </tr>\n",
       "    <tr>\n",
       "      <th>1000004913131</th>\n",
       "      <td>2</td>\n",
       "      <td>2</td>\n",
       "      <td>2</td>\n",
       "      <td>2</td>\n",
       "      <td>2</td>\n",
       "      <td>2</td>\n",
       "      <td>2</td>\n",
       "      <td>2</td>\n",
       "      <td>2</td>\n",
       "      <td>2</td>\n",
       "    </tr>\n",
       "    <tr>\n",
       "      <th>1000004915461</th>\n",
       "      <td>2</td>\n",
       "      <td>2</td>\n",
       "      <td>2</td>\n",
       "      <td>2</td>\n",
       "      <td>2</td>\n",
       "      <td>2</td>\n",
       "      <td>2</td>\n",
       "      <td>2</td>\n",
       "      <td>2</td>\n",
       "      <td>2</td>\n",
       "    </tr>\n",
       "  </tbody>\n",
       "</table>\n",
       "</div>"
      ],
      "text/plain": [
       "               idOrder  idProduct  productType  price  quantity  date  active  \\\n",
       "idBuyer                                                                         \n",
       "1000004910953        1          1            1      1         1     1       1   \n",
       "1000004911434        5          5            5      5         5     5       5   \n",
       "1000004911604        2          2            2      2         2     2       2   \n",
       "1000004913131        2          2            2      2         2     2       2   \n",
       "1000004915461        2          2            2      2         2     2       2   \n",
       "\n",
       "               affiliationCost  idRecommendation  timestamp  \n",
       "idBuyer                                                      \n",
       "1000004910953                1                 1          1  \n",
       "1000004911434                5                 5          5  \n",
       "1000004911604                2                 2          2  \n",
       "1000004913131                2                 2          2  \n",
       "1000004915461                2                 2          2  "
      ]
     },
     "execution_count": 30,
     "metadata": {},
     "output_type": "execute_result"
    }
   ],
   "source": [
    "idBuyer_sum = data_order.groupby('idBuyer').count()\n",
    "idBuyer_sum[450:455]"
   ]
  },
  {
   "cell_type": "code",
   "execution_count": 31,
   "metadata": {},
   "outputs": [
    {
     "data": {
      "text/plain": [
       "array([2000000018605, 2695454831000, 1802745861000, ..., 1926129461000,\n",
       "       1926115931001, 1926134711000])"
      ]
     },
     "execution_count": 31,
     "metadata": {},
     "output_type": "execute_result"
    }
   ],
   "source": [
    "# tenemos un array de 20548 idBuyer diferentes.\n",
    "\n",
    "array_Buyers= data_order['idBuyer'].unique()\n",
    "array_Buyers"
   ]
  },
  {
   "cell_type": "code",
   "execution_count": 32,
   "metadata": {},
   "outputs": [
    {
     "data": {
      "text/plain": [
       "20548"
      ]
     },
     "execution_count": 32,
     "metadata": {},
     "output_type": "execute_result"
    }
   ],
   "source": [
    "len(array_Buyers)"
   ]
  },
  {
   "cell_type": "code",
   "execution_count": 33,
   "metadata": {},
   "outputs": [
    {
     "data": {
      "text/plain": [
       "numpy.ndarray"
      ]
     },
     "execution_count": 33,
     "metadata": {},
     "output_type": "execute_result"
    }
   ],
   "source": [
    "type(array_Buyers)"
   ]
  },
  {
   "cell_type": "code",
   "execution_count": 34,
   "metadata": {},
   "outputs": [
    {
     "ename": "NameError",
     "evalue": "name 'data' is not defined",
     "output_type": "error",
     "traceback": [
      "\u001b[0;31m---------------------------------------------------------------------------\u001b[0m",
      "\u001b[0;31mNameError\u001b[0m                                 Traceback (most recent call last)",
      "\u001b[0;32m<ipython-input-34-6137cde4893c>\u001b[0m in \u001b[0;36m<module>\u001b[0;34m()\u001b[0m\n\u001b[0;32m----> 1\u001b[0;31m \u001b[0mdata\u001b[0m\u001b[0;34m\u001b[0m\u001b[0m\n\u001b[0m",
      "\u001b[0;31mNameError\u001b[0m: name 'data' is not defined"
     ]
    }
   ],
   "source": [
    "data"
   ]
  },
  {
   "cell_type": "code",
   "execution_count": 35,
   "metadata": {},
   "outputs": [
    {
     "name": "stdout",
     "output_type": "stream",
     "text": [
      "idRecommendation\n",
      "0     66826\n",
      "7      1741\n",
      "8       357\n",
      "20      145\n",
      "dtype: int64\n"
     ]
    }
   ],
   "source": [
    "# tipos de recomendadores y el numero de vecess se ha utilizado.\n",
    "\n",
    "idRecommendation_count = data_order.groupby('idRecommendation').size().sort_values(ascending=False)\n",
    "print (idRecommendation_count)"
   ]
  },
  {
   "cell_type": "code",
   "execution_count": 36,
   "metadata": {
    "scrolled": true
   },
   "outputs": [
    {
     "data": {
      "text/plain": [
       "idProduct\n",
       "885475514    16\n",
       "887608521    28\n",
       "889769339    98\n",
       "890017006     4\n",
       "890193819    74\n",
       "891372226    44\n",
       "894881243    42\n",
       "896845920    10\n",
       "897353286    10\n",
       "899160006    35\n",
       "Name: idOrder, dtype: int64"
      ]
     },
     "execution_count": 36,
     "metadata": {},
     "output_type": "execute_result"
    }
   ],
   "source": [
    "# total de productos en el total de Orders >> LISTA ITEMS MAS AÑADIDOS A LA CESTA?\n",
    "\n",
    "idBuyer_count = data_order.groupby('idProduct')['idOrder'].count()\n",
    "idBuyer_count[500:510]"
   ]
  },
  {
   "cell_type": "code",
   "execution_count": null,
   "metadata": {
    "collapsed": true
   },
   "outputs": [],
   "source": []
  },
  {
   "cell_type": "code",
   "execution_count": 37,
   "metadata": {},
   "outputs": [
    {
     "data": {
      "text/plain": [
       "idOrder\n",
       "477513    1\n",
       "477514    5\n",
       "477515    1\n",
       "477516    3\n",
       "477517    1\n",
       "Name: idProduct, dtype: int64"
      ]
     },
     "execution_count": 37,
     "metadata": {},
     "output_type": "execute_result"
    }
   ],
   "source": [
    "# cuantos id Product distientos hay en cada carrito.\n",
    "\n",
    "idBuyer_count = data_order.groupby('idOrder')['idProduct'].count()\n",
    "idBuyer_count.tail()"
   ]
  },
  {
   "cell_type": "code",
   "execution_count": null,
   "metadata": {
    "collapsed": true
   },
   "outputs": [],
   "source": []
  },
  {
   "cell_type": "code",
   "execution_count": null,
   "metadata": {
    "collapsed": true
   },
   "outputs": [],
   "source": []
  },
  {
   "cell_type": "code",
   "execution_count": null,
   "metadata": {
    "collapsed": true
   },
   "outputs": [],
   "source": [
    "\n"
   ]
  },
  {
   "cell_type": "code",
   "execution_count": null,
   "metadata": {
    "collapsed": true
   },
   "outputs": [],
   "source": []
  },
  {
   "cell_type": "code",
   "execution_count": null,
   "metadata": {
    "collapsed": true
   },
   "outputs": [],
   "source": []
  },
  {
   "cell_type": "code",
   "execution_count": null,
   "metadata": {
    "collapsed": true
   },
   "outputs": [],
   "source": []
  },
  {
   "cell_type": "code",
   "execution_count": null,
   "metadata": {
    "collapsed": true
   },
   "outputs": [],
   "source": []
  },
  {
   "cell_type": "code",
   "execution_count": null,
   "metadata": {
    "collapsed": true
   },
   "outputs": [],
   "source": []
  },
  {
   "cell_type": "code",
   "execution_count": null,
   "metadata": {
    "collapsed": true
   },
   "outputs": [],
   "source": []
  },
  {
   "cell_type": "code",
   "execution_count": null,
   "metadata": {
    "collapsed": true
   },
   "outputs": [],
   "source": []
  },
  {
   "cell_type": "code",
   "execution_count": null,
   "metadata": {
    "collapsed": true
   },
   "outputs": [],
   "source": []
  }
 ],
 "metadata": {
  "kernelspec": {
   "display_name": "Python 3",
   "language": "python",
   "name": "python3"
  },
  "language_info": {
   "codemirror_mode": {
    "name": "ipython",
    "version": 3
   },
   "file_extension": ".py",
   "mimetype": "text/x-python",
   "name": "python",
   "nbconvert_exporter": "python",
   "pygments_lexer": "ipython3",
   "version": "3.6.1"
  }
 },
 "nbformat": 4,
 "nbformat_minor": 2
}
