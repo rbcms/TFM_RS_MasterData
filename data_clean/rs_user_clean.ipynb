{
 "cells": [
  {
   "cell_type": "markdown",
   "metadata": {},
   "source": [
    "# rs_user_clean"
   ]
  },
  {
   "cell_type": "code",
   "execution_count": 34,
   "metadata": {
    "collapsed": true
   },
   "outputs": [],
   "source": [
    "%matplotlib inline\n",
    "import matplotlib.pyplot as plt\n",
    "import numpy as np\n",
    "import pandas as pd\n",
    "import io\n",
    "import os"
   ]
  },
  {
   "cell_type": "markdown",
   "metadata": {},
   "source": [
    "# rs_user"
   ]
  },
  {
   "cell_type": "markdown",
   "metadata": {},
   "source": [
    "### usuarios navegando"
   ]
  },
  {
   "cell_type": "code",
   "execution_count": 35,
   "metadata": {
    "collapsed": true
   },
   "outputs": [],
   "source": [
    "data_user=\"../DATA/IntropiaCSV/rs_user.csv\"\n",
    "\n",
    "readme=os.path.join(data_user)\n",
    "#cat $readme | head"
   ]
  },
  {
   "cell_type": "code",
   "execution_count": 36,
   "metadata": {
    "scrolled": false
   },
   "outputs": [
    {
     "data": {
      "text/html": [
       "<div>\n",
       "<style>\n",
       "    .dataframe thead tr:only-child th {\n",
       "        text-align: right;\n",
       "    }\n",
       "\n",
       "    .dataframe thead th {\n",
       "        text-align: left;\n",
       "    }\n",
       "\n",
       "    .dataframe tbody tr th {\n",
       "        vertical-align: top;\n",
       "    }\n",
       "</style>\n",
       "<table border=\"1\" class=\"dataframe\">\n",
       "  <thead>\n",
       "    <tr style=\"text-align: right;\">\n",
       "      <th></th>\n",
       "      <th>iduser</th>\n",
       "      <th>tags</th>\n",
       "      <th>geolocation</th>\n",
       "      <th>email</th>\n",
       "      <th>description</th>\n",
       "      <th>name</th>\n",
       "      <th>active</th>\n",
       "      <th>imageurl</th>\n",
       "      <th>url</th>\n",
       "      <th>misc</th>\n",
       "      <th>timestamp</th>\n",
       "    </tr>\n",
       "  </thead>\n",
       "  <tbody>\n",
       "  </tbody>\n",
       "</table>\n",
       "</div>"
      ],
      "text/plain": [
       "Empty DataFrame\n",
       "Columns: [iduser, tags, geolocation, email, description, name, active, imageurl, url, misc, timestamp]\n",
       "Index: []"
      ]
     },
     "execution_count": 36,
     "metadata": {},
     "output_type": "execute_result"
    }
   ],
   "source": [
    "datafile = os.path.join(data_user)\n",
    "data_user = pd.read_csv(datafile, sep=';')\n",
    "data_user.head(0)\n"
   ]
  },
  {
   "cell_type": "raw",
   "metadata": {},
   "source": [
    "data_user.columns"
   ]
  },
  {
   "cell_type": "code",
   "execution_count": 37,
   "metadata": {},
   "outputs": [
    {
     "name": "stdout",
     "output_type": "stream",
     "text": [
      "<class 'pandas.core.frame.DataFrame'>\n",
      "RangeIndex: 48969 entries, 0 to 48968\n",
      "Data columns (total 11 columns):\n",
      "iduser         48969 non-null int64\n",
      "tags           0 non-null float64\n",
      "geolocation    0 non-null float64\n",
      "email          48969 non-null object\n",
      "description    0 non-null float64\n",
      "name           0 non-null float64\n",
      "active         48969 non-null int64\n",
      "imageurl       0 non-null float64\n",
      "url            0 non-null float64\n",
      "misc           48968 non-null object\n",
      "timestamp      48969 non-null int64\n",
      "dtypes: float64(6), int64(3), object(2)\n",
      "memory usage: 4.1+ MB\n"
     ]
    }
   ],
   "source": [
    "data_user.info()"
   ]
  },
  {
   "cell_type": "code",
   "execution_count": 38,
   "metadata": {
    "collapsed": true
   },
   "outputs": [],
   "source": [
    "# Hay muchas coluans sin valores. No nos aportan nada."
   ]
  },
  {
   "cell_type": "code",
   "execution_count": 39,
   "metadata": {
    "scrolled": true
   },
   "outputs": [
    {
     "data": {
      "text/html": [
       "<div>\n",
       "<style>\n",
       "    .dataframe thead tr:only-child th {\n",
       "        text-align: right;\n",
       "    }\n",
       "\n",
       "    .dataframe thead th {\n",
       "        text-align: left;\n",
       "    }\n",
       "\n",
       "    .dataframe tbody tr th {\n",
       "        vertical-align: top;\n",
       "    }\n",
       "</style>\n",
       "<table border=\"1\" class=\"dataframe\">\n",
       "  <thead>\n",
       "    <tr style=\"text-align: right;\">\n",
       "      <th></th>\n",
       "      <th>iduser</th>\n",
       "      <th>active</th>\n",
       "      <th>misc</th>\n",
       "      <th>timestamp</th>\n",
       "    </tr>\n",
       "  </thead>\n",
       "  <tbody>\n",
       "    <tr>\n",
       "      <th>0</th>\n",
       "      <td>1000004887844</td>\n",
       "      <td>1</td>\n",
       "      <td>es</td>\n",
       "      <td>1459288467</td>\n",
       "    </tr>\n",
       "    <tr>\n",
       "      <th>1</th>\n",
       "      <td>2000000000333</td>\n",
       "      <td>1</td>\n",
       "      <td>es_es</td>\n",
       "      <td>1376468347</td>\n",
       "    </tr>\n",
       "    <tr>\n",
       "      <th>2</th>\n",
       "      <td>2000000000334</td>\n",
       "      <td>0</td>\n",
       "      <td>es_es</td>\n",
       "      <td>1376464186</td>\n",
       "    </tr>\n",
       "    <tr>\n",
       "      <th>3</th>\n",
       "      <td>2000000000335</td>\n",
       "      <td>1</td>\n",
       "      <td>es</td>\n",
       "      <td>1485442621</td>\n",
       "    </tr>\n",
       "    <tr>\n",
       "      <th>4</th>\n",
       "      <td>2000000000336</td>\n",
       "      <td>1</td>\n",
       "      <td>gb_en</td>\n",
       "      <td>1376484799</td>\n",
       "    </tr>\n",
       "  </tbody>\n",
       "</table>\n",
       "</div>"
      ],
      "text/plain": [
       "          iduser  active   misc   timestamp\n",
       "0  1000004887844       1     es  1459288467\n",
       "1  2000000000333       1  es_es  1376468347\n",
       "2  2000000000334       0  es_es  1376464186\n",
       "3  2000000000335       1     es  1485442621\n",
       "4  2000000000336       1  gb_en  1376484799"
      ]
     },
     "execution_count": 39,
     "metadata": {},
     "output_type": "execute_result"
    }
   ],
   "source": [
    "# seleccionamos columnas interés.\n",
    "\n",
    "user = data_user[['iduser','active','misc','timestamp']]\n",
    "\n",
    "# vistazo\n",
    "\n",
    "user.head()"
   ]
  },
  {
   "cell_type": "markdown",
   "metadata": {},
   "source": [
    "Vamos a ir a la carpeta donde estan los datos originales, y a la tabla rs_user le cambiamos el nombre y la renombramos con el nombre rs_user_sec.Esta tabla tiene datos sensibles, que serán eliminados. Por lo tanto no se sube al repositorio.\n",
    "Y esta con las columnas que nos interesan las guardamos con el nombre actual. Lo hacemos así ya que tenemos mucho ya con este nombre, y puede dar a error."
   ]
  },
  {
   "cell_type": "code",
   "execution_count": 40,
   "metadata": {},
   "outputs": [],
   "source": [
    "# guardamos la tabla: \n",
    "\n",
    "#Save into a csv\n",
    "\n",
    "user.to_csv('../DATA/IntropiaCSV/rs_user_prueba.csv')"
   ]
  },
  {
   "cell_type": "code",
   "execution_count": 41,
   "metadata": {
    "scrolled": true
   },
   "outputs": [
    {
     "name": "stdout",
     "output_type": "stream",
     "text": [
      "There are 48969 users\n",
      "There are 48717 email\n",
      "There are 2 active\n",
      "There are 171 misc\n"
     ]
    }
   ],
   "source": [
    "# Calculate number of diferents elements >> unicos\n",
    "\n",
    "n_user =data_user.iduser.unique().shape[0]\n",
    "n_email = data_user.email.unique().shape[0]\n",
    "n_active = data_user.active.unique().shape[0]\n",
    "n_misc = data_user.misc.unique().shape[0]\n",
    "\n",
    "print(\"There are %s users\" % (n_user))\n",
    "print(\"There are %s email\" % (n_email))\n",
    "print(\"There are %s active\" % (n_active))\n",
    "print(\"There are %s misc\" % (n_misc))"
   ]
  },
  {
   "cell_type": "markdown",
   "metadata": {
    "collapsed": true
   },
   "source": [
    "Notas: Tenemos menos emails que usuarios, esto puede deberse a que son guest o bien tienen cuenta.\n",
    "En cualquier caso, no nos importa, ya que lo relevante es el \"id\".\n",
    "Tenemos una combinación de 171 misc. Esta es una combinación de país-idioma por site. \n",
    "Hay web site que tienen 2 idiomas y otros que tienen 1.\n",
    "Puede ser relevante a la hora de recomendar, dados loa hábitos de compra, climatología...pero inicialemente\n",
    "no lo contemplo.\n",
    "    \n"
   ]
  },
  {
   "cell_type": "code",
   "execution_count": 31,
   "metadata": {},
   "outputs": [
    {
     "data": {
      "text/plain": [
       "iduser    48969\n",
       "email     48717\n",
       "active        2\n",
       "misc        171\n",
       "dtype: int32"
      ]
     },
     "execution_count": 31,
     "metadata": {},
     "output_type": "execute_result"
    }
   ],
   "source": [
    "# otra forma de hacerlo, mediante una función q retorne \n",
    "\n",
    "def count_unique(column):\n",
    "    return len(column.unique())\n",
    "\n",
    "data_user[['iduser','email','active','misc']].apply(count_unique, axis=0).astype(np.int32)"
   ]
  },
  {
   "cell_type": "code",
   "execution_count": 45,
   "metadata": {},
   "outputs": [],
   "source": [
    "# Vistazo a la cantidad de emails que son recurrentes.\n",
    "\n",
    "# email_count = user.groupby('email').size().sort_values(ascending=False)\n",
    "# print (email_count)\n",
    "\n",
    "# Esta columna tiene relevancia solo para uso interno:\n",
    "# Reflexión para dto. de marketing:\n",
    "# Tenemos muy pocos emails recurrentes, esto se puede traducir en q tenemos muy pocos usuarios recurrentes???\n",
    "# La bbbdd de emails es correcta >> revisar de forma conjunta"
   ]
  },
  {
   "cell_type": "code",
   "execution_count": 46,
   "metadata": {},
   "outputs": [
    {
     "name": "stdout",
     "output_type": "stream",
     "text": [
      "active\n",
      "1    41873\n",
      "0     7096\n",
      "dtype: int64\n"
     ]
    }
   ],
   "source": [
    "# Vistazo rápido activo/no activo.>> deduzco q es un indicador de un estado interno.\n",
    "\n",
    "active_count = user.groupby('active').size().sort_values(ascending=False)\n",
    "print (active_count)"
   ]
  },
  {
   "cell_type": "markdown",
   "metadata": {
    "collapsed": true
   },
   "source": [
    "Sobre la columna \"misc\" >> que significan las útimas URL's??? se trata de enlaces rotos:\n",
    "\n",
    "Posibilidades:\n",
    "\n",
    "- vienen de emails recuperación carritos? \n",
    "- se deben a la incidencia que hubo en la página respecto al redireccionamiento? >> comprobar.\n",
    "\n",
    "En cualquier caso, inicialmente no se tiene en cuenta para ningún calculo importante."
   ]
  },
  {
   "cell_type": "code",
   "execution_count": 48,
   "metadata": {},
   "outputs": [
    {
     "data": {
      "text/plain": [
       "es                                                                                                     33048\n",
       "es_es                                                                                                   5086\n",
       "gb                                                                                                      2584\n",
       "pt                                                                                                      1286\n",
       "it                                                                                                      1075\n",
       "gb_en                                                                                                    859\n",
       "fr                                                                                                       795\n",
       "de                                                                                                       787\n",
       "it_en                                                                                                    405\n",
       "pt_en                                                                                                    378\n",
       "de_de                                                                                                    327\n",
       "gr                                                                                                       277\n",
       "nl                                                                                                       236\n",
       "ie                                                                                                       235\n",
       "be                                                                                                       235\n",
       "dk                                                                                                       116\n",
       "fr_fr                                                                                                    107\n",
       "ie_en                                                                                                    101\n",
       "se                                                                                                        87\n",
       "gr_en                                                                                                     85\n",
       "fr_en                                                                                                     77\n",
       "ncr                                                                                                       63\n",
       "pt_es                                                                                                     62\n",
       "at                                                                                                        57\n",
       "nl_en                                                                                                     57\n",
       "dk_en                                                                                                     52\n",
       "be_fr                                                                                                     47\n",
       "pl                                                                                                        42\n",
       "us_en                                                                                                     36\n",
       "se_en                                                                                                     34\n",
       "                                                                                                       ...  \n",
       "es?gclid=CIGqzrass8sCFS8z0wodUssKNQ                                                                        1\n",
       "es?gclid=CKDk-8a1tMwCFWQq0wodjf0DCw                                                                        1\n",
       "es?gclid=Cj0KEQiAjMC2BRC34oGKqY27jtkBEiQAwSXzfk6UYAWoiMXJfK-UUgs0rlB5EbjS8k6JPBAOKNVwZdEaAryr8P8HAQ        1\n",
       "es?gclid=CjwKEAiAgKu2BRDu1OGw3-KXokwSJAB_Yy2QZ9OQLDpFmKs5Qsdm0a1e-LVVcKKHPscea-bc0U-_QhoCcYTw_wcB          1\n",
       "esdefault                                                                                                  1\n",
       "ch                                                                                                         1\n",
       "es?gclid=CjwKEAiAmY-3BRDh7pjvg46p1iYSJADQ78gN79YeD55wVkkKKrG05m9D1Cx8-tJ83byGpj2R5Doa5BoC6pfw_wcB          1\n",
       "fi_en                                                                                                      1\n",
       "es?gclid=CjwKEAjw8bO3BRDp0bP_vL-7_lASJACL_d6wzzVWcK8--OXk2HjKWBDoBJnNaWnOWg9UKdfXuTphRxoCCeDw_wcB          1\n",
       "es?gclid=Cj0KEQjw5Z63BRCLqqLtpc6dk7gBEiQA0OuhsI2q4nLra3wNVJ3IR86d0yOuIHGzrDRI_fw3pjm72kQaAiM58P8HAQ        1\n",
       "fr?gclid=Cj0KEQjwjIy5BRClh8m_9Zu64d8BEiQAtZsQf2Fp0xcejdYsN3EGqxTVQzvOIo28_jKX0jKdxTYirhwaAnyc8P8HAQ        1\n",
       "es?gclid=Cj0KEQiAsP-2BRCFl4Lb2NTJttEBEiQAmj2tbfBGEXNSQ8Gvi_E9GTMjv4EU2iYeQ7_uW_sy_8n7rN0aAlIW8P8HAQ        1\n",
       "es?gclid=CIzUpunkocsCFZadGwodtLsAfA                                                                        1\n",
       "es?gclid=CNCy7Nne78sCFUs6GwodceAIUQ                                                                        1\n",
       "ca_en                                                                                                      1\n",
       "gb?gclid=CJb0varSucsCFYTGGwodc2ENCQ                                                                        1\n",
       "es?gclid=CKPmjYD29csCFRYTGwodejwHjQ                                                                        1\n",
       "gb?gclid=CLrFn_HgqcsCFasV0wodMIYOFA                                                                        1\n",
       "bg_es                                                                                                      1\n",
       "uy_es                                                                                                      1\n",
       "es?gclid=CP3UiN23uMsCFQso0wodjyoPOg                                                                        1\n",
       "es?gclid=CJ2V28XepssCFYidGwodwusCGw                                                                        1\n",
       "eg_es                                                                                                      1\n",
       "es?gclid=CjwKEAjw3qu5BRC-0uCw8O6Y5zcSJAA_WtdLjVpx70aZbAa_J2QPHvxD0LRUseag5mCez-Uaf5A4vhoCyJLw_wcB          1\n",
       "de?gclid=CMvI9tS-wssCFUWfGwodvM4Eaw                                                                        1\n",
       "es?gclid=Cj0KEQiAsP-2BRCFl4Lb2NTJttEBEiQAmj2tbW-Pp6QstwjMtSYhvojfwYQTHlIaWDi6tkPKp9FRMn8aApxk8P8HAQ        1\n",
       "es?gclid=CMT6_pGxncsCFRIUGwodWJICgg                                                                        1\n",
       "es?gclid=CP_Jts2-n8sCFasEwwodnK4Dlw                                                                        1\n",
       "es?gclid=CJ3MrcDLscsCFQ4TGwodHq8KCQ                                                                        1\n",
       "jp_en                                                                                                      1\n",
       "Name: misc, Length: 170, dtype: int64"
      ]
     },
     "execution_count": 48,
     "metadata": {},
     "output_type": "execute_result"
    }
   ],
   "source": [
    "misc = user['misc'].value_counts()\n",
    "misc\n"
   ]
  },
  {
   "cell_type": "code",
   "execution_count": null,
   "metadata": {
    "collapsed": true
   },
   "outputs": [],
   "source": [
    "# Explorando"
   ]
  },
  {
   "cell_type": "code",
   "execution_count": 49,
   "metadata": {},
   "outputs": [
    {
     "data": {
      "text/plain": [
       "48969"
      ]
     },
     "execution_count": 49,
     "metadata": {},
     "output_type": "execute_result"
    }
   ],
   "source": [
    "result = user['active'] == 0\n",
    "len(result)"
   ]
  },
  {
   "cell_type": "code",
   "execution_count": 50,
   "metadata": {},
   "outputs": [
    {
     "data": {
      "text/plain": [
       "7096"
      ]
     },
     "execution_count": 50,
     "metadata": {},
     "output_type": "execute_result"
    }
   ],
   "source": [
    "len(user[result])"
   ]
  },
  {
   "cell_type": "code",
   "execution_count": 51,
   "metadata": {},
   "outputs": [
    {
     "data": {
      "text/html": [
       "<div>\n",
       "<style>\n",
       "    .dataframe thead tr:only-child th {\n",
       "        text-align: right;\n",
       "    }\n",
       "\n",
       "    .dataframe thead th {\n",
       "        text-align: left;\n",
       "    }\n",
       "\n",
       "    .dataframe tbody tr th {\n",
       "        vertical-align: top;\n",
       "    }\n",
       "</style>\n",
       "<table border=\"1\" class=\"dataframe\">\n",
       "  <thead>\n",
       "    <tr style=\"text-align: right;\">\n",
       "      <th></th>\n",
       "      <th>iduser</th>\n",
       "      <th>active</th>\n",
       "      <th>misc</th>\n",
       "      <th>timestamp</th>\n",
       "    </tr>\n",
       "  </thead>\n",
       "  <tbody>\n",
       "    <tr>\n",
       "      <th>2</th>\n",
       "      <td>2000000000334</td>\n",
       "      <td>0</td>\n",
       "      <td>es_es</td>\n",
       "      <td>1376464186</td>\n",
       "    </tr>\n",
       "    <tr>\n",
       "      <th>8</th>\n",
       "      <td>2000000000340</td>\n",
       "      <td>0</td>\n",
       "      <td>be_en</td>\n",
       "      <td>1378466593</td>\n",
       "    </tr>\n",
       "    <tr>\n",
       "      <th>10</th>\n",
       "      <td>2000000000342</td>\n",
       "      <td>0</td>\n",
       "      <td>pt_en</td>\n",
       "      <td>1421016563</td>\n",
       "    </tr>\n",
       "    <tr>\n",
       "      <th>11</th>\n",
       "      <td>2000000000343</td>\n",
       "      <td>0</td>\n",
       "      <td>it_en</td>\n",
       "      <td>1376468432</td>\n",
       "    </tr>\n",
       "    <tr>\n",
       "      <th>14</th>\n",
       "      <td>2000000000346</td>\n",
       "      <td>0</td>\n",
       "      <td>es_es</td>\n",
       "      <td>1412971285</td>\n",
       "    </tr>\n",
       "  </tbody>\n",
       "</table>\n",
       "</div>"
      ],
      "text/plain": [
       "           iduser  active   misc   timestamp\n",
       "2   2000000000334       0  es_es  1376464186\n",
       "8   2000000000340       0  be_en  1378466593\n",
       "10  2000000000342       0  pt_en  1421016563\n",
       "11  2000000000343       0  it_en  1376468432\n",
       "14  2000000000346       0  es_es  1412971285"
      ]
     },
     "execution_count": 51,
     "metadata": {},
     "output_type": "execute_result"
    }
   ],
   "source": [
    "user[result].head()"
   ]
  },
  {
   "cell_type": "code",
   "execution_count": 52,
   "metadata": {
    "collapsed": true
   },
   "outputs": [],
   "source": [
    "# Cositas varias probando."
   ]
  },
  {
   "cell_type": "code",
   "execution_count": 56,
   "metadata": {},
   "outputs": [
    {
     "data": {
      "text/plain": [
       "(48969, 4)"
      ]
     },
     "execution_count": 56,
     "metadata": {},
     "output_type": "execute_result"
    }
   ],
   "source": [
    "len(user)\n",
    "user.shape"
   ]
  },
  {
   "cell_type": "code",
   "execution_count": 58,
   "metadata": {},
   "outputs": [
    {
     "data": {
      "text/plain": [
       "iduser       48969\n",
       "active       48969\n",
       "misc         48968\n",
       "timestamp    48969\n",
       "dtype: int64"
      ]
     },
     "execution_count": 58,
     "metadata": {},
     "output_type": "execute_result"
    }
   ],
   "source": [
    "user.count()"
   ]
  },
  {
   "cell_type": "code",
   "execution_count": null,
   "metadata": {
    "collapsed": true
   },
   "outputs": [],
   "source": []
  },
  {
   "cell_type": "code",
   "execution_count": null,
   "metadata": {
    "collapsed": true
   },
   "outputs": [],
   "source": []
  },
  {
   "cell_type": "code",
   "execution_count": null,
   "metadata": {
    "collapsed": true
   },
   "outputs": [],
   "source": []
  },
  {
   "cell_type": "code",
   "execution_count": null,
   "metadata": {
    "collapsed": true
   },
   "outputs": [],
   "source": []
  },
  {
   "cell_type": "code",
   "execution_count": null,
   "metadata": {
    "collapsed": true
   },
   "outputs": [],
   "source": []
  }
 ],
 "metadata": {
  "kernelspec": {
   "display_name": "Python 3",
   "language": "python",
   "name": "python3"
  },
  "language_info": {
   "codemirror_mode": {
    "name": "ipython",
    "version": 3
   },
   "file_extension": ".py",
   "mimetype": "text/x-python",
   "name": "python",
   "nbconvert_exporter": "python",
   "pygments_lexer": "ipython3",
   "version": "3.6.1"
  }
 },
 "nbformat": 4,
 "nbformat_minor": 2
}
